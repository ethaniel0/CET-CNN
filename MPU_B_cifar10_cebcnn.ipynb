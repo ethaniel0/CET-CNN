{
  "nbformat": 4,
  "nbformat_minor": 0,
  "metadata": {
    "colab": {
      "name": "Final MPU B cifar10 cebcnn.ipynb",
      "provenance": [],
      "collapsed_sections": [],
      "toc_visible": true,
      "machine_shape": "hm"
    },
    "kernelspec": {
      "name": "python3",
      "display_name": "Python 3"
    },
    "accelerator": "GPU"
  },
  "cells": [
    {
      "cell_type": "code",
      "metadata": {
        "id": "grnBTCO6-Cwt",
        "colab_type": "code",
        "colab": {}
      },
      "source": [
        "import tensorflow as tf\n",
        "from tensorflow import keras\n",
        "from tensorflow.keras.layers import Layer, MaxPooling2D, Flatten, Dense, Conv2D, Input, BatchNormalization, MaxPool2D, Lambda, Concatenate, Dropout\n",
        "from tensorflow.keras import layers\n",
        "from tensorflow.keras.models import Sequential, Model\n",
        "from tensorflow.keras.datasets import cifar10\n",
        "from tensorflow.keras import optimizers\n",
        "from tensorflow.keras.utils import plot_model\n",
        "from tensorflow.keras.callbacks import TensorBoard\n",
        "from tensorflow.keras import regularizers\n",
        "from tensorflow.keras.optimizers import SGD\n",
        "from tensorflow.keras import initializers\n",
        "import tensorflow.keras.backend as K\n",
        "import numpy as np\n",
        "%load_ext tensorboard\n",
        "import datetime\n",
        "!rm -rf ./logs/ "
      ],
      "execution_count": 1,
      "outputs": []
    },
    {
      "cell_type": "markdown",
      "metadata": {
        "id": "_ISRTeVnGlkW",
        "colab_type": "text"
      },
      "source": [
        "### Make The Dataset"
      ]
    },
    {
      "cell_type": "code",
      "metadata": {
        "id": "d2LetJiCpmlk",
        "colab_type": "code",
        "colab": {}
      },
      "source": [
        "def unison_shuffled_copies(a, b):\n",
        "    assert len(a) == len(b)\n",
        "    p = np.random.permutation(len(a))\n",
        "    return a[p], b[p]"
      ],
      "execution_count": 2,
      "outputs": []
    },
    {
      "cell_type": "code",
      "metadata": {
        "id": "y-0M6iDU50hs",
        "colab_type": "code",
        "colab": {
          "base_uri": "https://localhost:8080/",
          "height": 103
        },
        "outputId": "57d435fc-529d-4c06-a74b-25f45f15fe9c"
      },
      "source": [
        "(x_train, y_train), (x_test, y_test) = cifar10.load_data()\n",
        "x_train = x_train / 255\n",
        "x_test = x_test / 255\n",
        "\n",
        "y_train = keras.utils.to_categorical(y_train, 10)\n",
        "y_test = keras.utils.to_categorical(y_test, 10)\n",
        "\n",
        "image_size = (32,32,3)\n",
        "\n",
        "# flip images\n",
        "x_train_flipped = np.flip(x_train, axis=3)\n",
        "x_train = np.append(x_train, x_train_flipped, axis=0)\n",
        "y_train = np.append(y_train, np.copy(y_train), axis=0)\n",
        "x_train_flipped = None\n",
        "print('flipped')\n",
        "\n",
        "# mix it up\n",
        "x_train, y_train = unison_shuffled_copies(x_train, y_train)\n",
        "print('permuted')\n",
        "print(x_train.shape, y_train.shape)"
      ],
      "execution_count": 3,
      "outputs": [
        {
          "output_type": "stream",
          "text": [
            "Downloading data from https://www.cs.toronto.edu/~kriz/cifar-10-python.tar.gz\n",
            "170500096/170498071 [==============================] - 2s 0us/step\n",
            "flipped\n",
            "permuted\n",
            "(100000, 32, 32, 3) (100000, 10)\n"
          ],
          "name": "stdout"
        }
      ]
    },
    {
      "cell_type": "code",
      "metadata": {
        "id": "y8UaPZBoCa3k",
        "colab_type": "code",
        "colab": {}
      },
      "source": [
        "def make_set(nums):\n",
        "  ytrain = np.zeros((y_train.shape[0], len(nums)))\n",
        "  ytest = np.zeros((y_test.shape[0], len(nums)))\n",
        "\n",
        "  for i in range(y_train.shape[0]):\n",
        "    made1 = False\n",
        "    arg = np.argmax(y_train[i])\n",
        "    for x in range(len(nums)):\n",
        "      if arg in nums[x]:\n",
        "        ytrain[i][x] = 1.0\n",
        "        made1 = True\n",
        "    if not made1: \n",
        "      ytrain[i] += 1.0/len(nums)\n",
        "\n",
        "  for i in range(y_test.shape[0]):\n",
        "    made1 = False\n",
        "    arg = np.argmax(y_train[i])\n",
        "    for x in range(len(nums)):\n",
        "      if arg in nums[x]:\n",
        "        ytest[i][x] = 1.0\n",
        "        made1 = True\n",
        "    if not made1: \n",
        "      ytest[i] += 1.0/len(nums)\n",
        "  \n",
        "  return ytrain, ytest"
      ],
      "execution_count": 4,
      "outputs": []
    },
    {
      "cell_type": "code",
      "metadata": {
        "id": "21OZjDfgn7AU",
        "colab_type": "code",
        "colab": {}
      },
      "source": [
        "def make_level(nums):\n",
        "  ytrain = np.zeros((y_train.shape[0], len(nums)))\n",
        "  ytest = np.zeros((y_test.shape[0], len(nums)))\n",
        "\n",
        "  for i in range(y_train.shape[0]):\n",
        "    arg = np.argmax(y_train[i])\n",
        "    for x in range(len(nums)):\n",
        "      if arg in nums[x]:\n",
        "        ytrain[i][x] = 1.0\n",
        "        made1 = True\n",
        "\n",
        "  for i in range(y_test.shape[0]):\n",
        "    arg = np.argmax(y_test[i])\n",
        "    for x in range(len(nums)):\n",
        "      if arg in nums[x]:\n",
        "        ytest[i][x] = 1.0\n",
        "        made1 = True\n",
        "  \n",
        "  return ytrain, ytest"
      ],
      "execution_count": 5,
      "outputs": []
    },
    {
      "cell_type": "code",
      "metadata": {
        "id": "jWQi7XObdC4o",
        "colab_type": "code",
        "colab": {}
      },
      "source": [
        "l1 = 1e-4\n",
        "l2 = 5e-4\n",
        "\n",
        "# seq = Sequential([\n",
        "#   Input(shape=(32,32,3)),\n",
        "#   Conv2D(64, (3,3), padding=\"same\", activation=\"relu\", kernel_regularizer=regularizers.l1_l2(l1=l1, l2=l2)),\n",
        "#   Conv2D(64, (3,3), padding=\"same\", activation=\"relu\", kernel_regularizer=regularizers.l1_l2(l1=l1, l2=l2)),\n",
        "#   BatchNormalization(),\n",
        "#   Dropout(0.5),\n",
        "#   Conv2D(128, (3,3), padding=\"same\", activation=\"relu\", kernel_regularizer=regularizers.l1_l2(l1=l1, l2=l2)),\n",
        "#   Conv2D(128, (3,3), padding=\"same\", activation=\"relu\", kernel_regularizer=regularizers.l1_l2(l1=l1, l2=l2)),\n",
        "#   BatchNormalization(),\n",
        "#   Dropout(0.5),\n",
        "#   Conv2D(256, (3,3), padding=\"same\", activation=\"relu\", kernel_regularizer=regularizers.l1_l2(l1=l1, l2=l2)),\n",
        "#   Conv2D(256, (3,3), padding=\"same\", activation=\"relu\", kernel_regularizer=regularizers.l1_l2(l1=l1, l2=l2)),\n",
        "#   BatchNormalization(),\n",
        "#   Dropout(0.5),\n",
        "#   Conv2D(512, (3,3), padding=\"same\", activation=\"relu\", kernel_regularizer=regularizers.l1_l2(l1=l1, l2=l2)),\n",
        "#   Conv2D(512, (3,3), padding=\"same\", activation=\"relu\", kernel_regularizer=regularizers.l1_l2(l1=l1, l2=l2)),\n",
        "#   BatchNormalization(),\n",
        "#   Dropout(0.5),\n",
        "#   MaxPool2D(),\n",
        "#   MaxPool2D(),\n",
        "#   Flatten(),\n",
        "#   Dense(10, activation=\"softmax\")\n",
        "# ])\n",
        "\n",
        "# seq.summary()\n",
        "\n",
        "class mpu(Model):\n",
        "  def __init__(self, root=False, end=False, threshold=0.3, name=None):\n",
        "    super(mpu, self).__init__(name=name)\n",
        "\n",
        "    self.pred1 = Conv2D(64, (3,3), padding=\"same\", activation=\"relu\")\n",
        "    self.pred2 = Conv2D(64, (3,3), padding=\"same\", activation=\"relu\")\n",
        "    self.pred3 = MaxPool2D()\n",
        "    self.pred4 = Flatten()\n",
        "    self.pred5 = Dense(1, activation=\"sigmoid\")\n",
        "\n",
        "    self.base1 = Conv2D(64, (3,3), padding=\"same\", activation=\"relu\", kernel_regularizer=regularizers.l1_l2(l1=l1, l2=l2))\n",
        "    self.base2 = Conv2D(64, (3,3), padding=\"same\", activation=\"relu\", kernel_regularizer=regularizers.l1_l2(l1=l1, l2=l2))\n",
        "    self.base3 = BatchNormalization()\n",
        "    self.base4 = Dropout(0.5)\n",
        "\n",
        "    self.connect = 0\n",
        "    self.root = root\n",
        "    self.threshold = threshold\n",
        "    self.end = end\n",
        "  \n",
        "  def call(self, inputs):\n",
        "\n",
        "    if self.root:\n",
        "      b = self.base1(inputs)\n",
        "      b = self.base2(b)\n",
        "      b = self.base3(b)\n",
        "      b = self.base4(b)\n",
        "      return b\n",
        "\n",
        "    p = self.pred1(inputs)\n",
        "    p = self.pred2(p)\n",
        "    p = self.pred3(p)\n",
        "    p = self.pred4(p)\n",
        "    p = self.pred5(p)\n",
        "\n",
        "    if self.end or (self.connect == 1 and p[0] < threshold):\n",
        "      return p\n",
        "    \n",
        "    b = self.base1(inputs)\n",
        "    b = self.base2(b)\n",
        "    b = self.base3(b)\n",
        "    b = self.base4(b)\n",
        "\n",
        "    return [p, b]"
      ],
      "execution_count": 6,
      "outputs": []
    },
    {
      "cell_type": "code",
      "metadata": {
        "id": "_x9OiMjVclbh",
        "colab_type": "code",
        "colab": {}
      },
      "source": [
        "class Node:\n",
        "  def __init__(self, val=None, branches=False, isRoot=False, end=False, name=\"mpu\"):\n",
        "    self.isRoot = isRoot\n",
        "    self.branches = branches or []\n",
        "    self.end = end\n",
        "    self.model = mpu(root=isRoot, end=end, name=name)\n",
        "    self.val = val\n",
        "    self.name = name\n",
        "  def addLeafs(self, nums=None):\n",
        "    for i in nums: self.branches.append(Node(val=i, end=True))\n",
        "  def build(self, inp):\n",
        "    if self.end:\n",
        "      return [self.model(inp), []]\n",
        "    output = self.model(inp)\n",
        "    connect = output if self.end or self.isRoot else output[1]\n",
        "    models = [b.build(connect) for b in self.branches]\n",
        "    print(self.name, models)\n",
        "    \n",
        "    connections = []\n",
        "    for m in models:\n",
        "      connections.extend(m[1])\n",
        "    return output, connections"
      ],
      "execution_count": 7,
      "outputs": []
    },
    {
      "cell_type": "code",
      "metadata": {
        "id": "jj2xCiks0HKP",
        "colab_type": "code",
        "colab": {
          "base_uri": "https://localhost:8080/",
          "height": 217
        },
        "outputId": "cbc9bd19-713a-463e-93ad-18fb5cc1000c"
      },
      "source": [
        "root = Node(isRoot=True, name='root')\n",
        "nalive = Node(name='nalive')\n",
        "alive = Node(name='alive')\n",
        "nalive.addLeafs([0, 8])\n",
        "alive.addLeafs([2, 6])\n",
        "\n",
        "road = Node(name='road')\n",
        "road.addLeafs([1, 9])\n",
        "nalive.branches.append(road)\n",
        "\n",
        "pet = Node(name='pet')\n",
        "pet.addLeafs([3, 5])\n",
        "medium = Node(name='medium')\n",
        "medium.addLeafs([4, 7])\n",
        "alive.branches.append(pet)\n",
        "alive.branches.append(medium)\n",
        "root.branches.extend([nalive, alive])\n",
        "\n",
        "inp = Input(shape=(32,32,3))\n",
        "out, conn = root.build(inp)\n",
        "print(conn)\n",
        "m = Model(inputs=inp, outputs=conn, name=\"full\")\n",
        "plot_model(m)"
      ],
      "execution_count": 8,
      "outputs": [
        {
          "output_type": "stream",
          "text": [
            "road [[<tf.Tensor 'mpu/dense_8/Sigmoid:0' shape=(None, 1) dtype=float32>, []], [<tf.Tensor 'mpu/dense_9/Sigmoid:0' shape=(None, 1) dtype=float32>, []]]\n",
            "nalive [[<tf.Tensor 'mpu/dense_3/Sigmoid:0' shape=(None, 1) dtype=float32>, []], [<tf.Tensor 'mpu/dense_4/Sigmoid:0' shape=(None, 1) dtype=float32>, []], ([<tf.Tensor 'road/dense_7/Sigmoid:0' shape=(None, 1) dtype=float32>, <tf.Tensor 'road/dropout_7/cond/Identity:0' shape=(None, 32, 32, 64) dtype=float32>], [])]\n",
            "pet [[<tf.Tensor 'mpu/dense_11/Sigmoid:0' shape=(None, 1) dtype=float32>, []], [<tf.Tensor 'mpu/dense_12/Sigmoid:0' shape=(None, 1) dtype=float32>, []]]\n",
            "medium [[<tf.Tensor 'mpu/dense_14/Sigmoid:0' shape=(None, 1) dtype=float32>, []], [<tf.Tensor 'mpu/dense_15/Sigmoid:0' shape=(None, 1) dtype=float32>, []]]\n",
            "alive [[<tf.Tensor 'mpu/dense_5/Sigmoid:0' shape=(None, 1) dtype=float32>, []], [<tf.Tensor 'mpu/dense_6/Sigmoid:0' shape=(None, 1) dtype=float32>, []], ([<tf.Tensor 'pet/dense_10/Sigmoid:0' shape=(None, 1) dtype=float32>, <tf.Tensor 'pet/dropout_10/cond/Identity:0' shape=(None, 32, 32, 64) dtype=float32>], []), ([<tf.Tensor 'medium/dense_13/Sigmoid:0' shape=(None, 1) dtype=float32>, <tf.Tensor 'medium/dropout_13/cond/Identity:0' shape=(None, 32, 32, 64) dtype=float32>], [])]\n",
            "root [([<tf.Tensor 'nalive/dense_1/Sigmoid:0' shape=(None, 1) dtype=float32>, <tf.Tensor 'nalive/dropout_1/cond/Identity:0' shape=(None, 32, 32, 64) dtype=float32>], []), ([<tf.Tensor 'alive/dense_2/Sigmoid:0' shape=(None, 1) dtype=float32>, <tf.Tensor 'alive/dropout_2/cond/Identity:0' shape=(None, 32, 32, 64) dtype=float32>], [])]\n",
            "[]\n"
          ],
          "name": "stdout"
        },
        {
          "output_type": "execute_result",
          "data": {
            "image/png": "[encoded data removed]",
            "text/plain": [
              "<IPython.core.display.Image object>"
            ]
          },
          "metadata": {
            "tags": []
          },
          "execution_count": 8
        }
      ]
    },
    {
      "cell_type": "code",
      "metadata": {
        "id": "v1jtubMD8AA7",
        "colab_type": "code",
        "colab": {}
      },
      "source": [
        "root = mpu(root=True, name='root')\n",
        "nalive = mpu(name='nalive')\n",
        "alive = mpu(name='alive')\n",
        "plane = mpu(end=True, name='plane')\n",
        "ship = mpu(end=True, name='ship')\n",
        "road = mpu(name='road')\n",
        "auto = mpu(end=True, name='auto')\n",
        "truck = mpu(end=True, name='truck')\n",
        "\n",
        "bird = mpu(end=True, name='bird')\n",
        "frog = mpu(end=True, name='frog')\n",
        "pet = mpu(name='pet')\n",
        "cat = mpu(end=True, name='cat')\n",
        "dog = mpu(end=True, name='dog')\n",
        "medium = mpu(name='medium')\n",
        "horse = mpu(end=True, name='horse')\n",
        "deer = mpu(end=True, name='deer')"
      ],
      "execution_count": 9,
      "outputs": []
    },
    {
      "cell_type": "markdown",
      "metadata": {
        "id": "-7nH6aGy8mPe",
        "colab_type": "text"
      },
      "source": [
        "all the models"
      ]
    },
    {
      "cell_type": "code",
      "metadata": {
        "id": "vxQXciAM8n49",
        "colab_type": "code",
        "colab": {}
      },
      "source": [
        "imp = Input(shape=(32,32,3))\n",
        "rootM = root(imp)\n",
        "naliveM = nalive(rootM)\n",
        "planeM = plane(naliveM[1]) # output 0\n",
        "shipM = ship(naliveM[1]) # output 8\n",
        "roadM = road(naliveM[1])\n",
        "autoM = auto(roadM[1]) # output 1\n",
        "truckM = truck(roadM[1]) # output 9\n",
        "# \n",
        "aliveM = alive(rootM)\n",
        "birdM = bird(aliveM[1]) # output 2\n",
        "frogM = frog(aliveM[1]) # output 6\n",
        "\n",
        "\n",
        "petM = pet(aliveM[1])\n",
        "catM = cat(petM[1]) # output 3\n",
        "dogM = dog(petM[1]) # output 5\n",
        "mediumM = medium(aliveM[1])\n",
        "horseM = horse(mediumM[1]) # output 4\n",
        "deerM = deer(mediumM[1]) # output 7\n",
        "\n",
        "fine = Concatenate(name=\"fine\")([planeM, autoM, birdM, catM, horseM, dogM, frogM, deerM, shipM, truckM])\n",
        "coarse2 = Concatenate(name=\"coarse2\")([roadM[0], petM[0], mediumM[0]])\n",
        "coarse1 = Concatenate(name=\"coarse1\")([naliveM[0], aliveM[0]])\n",
        "\n",
        "full = Model(imp, [coarse1, coarse2, fine], name=\"full\")\n",
        "\n",
        "plot_model(full, show_shapes=True)\n",
        "\n",
        "individuals = []\n",
        "\n",
        "inds = [naliveM[0], aliveM[0], roadM[0], petM[0], mediumM[0], planeM, autoM, birdM, catM, horseM, dogM, frogM, deerM, shipM, truckM]\n",
        "for i in inds:\n",
        "  individuals.append(Model(imp, i))"
      ],
      "execution_count": 10,
      "outputs": []
    },
    {
      "cell_type": "code",
      "metadata": {
        "id": "nXFhsyfcVWAk",
        "colab_type": "code",
        "colab": {
          "base_uri": "https://localhost:8080/",
          "height": 1000
        },
        "outputId": "b638be7e-d901-4365-e873-a57d99331c91"
      },
      "source": [
        "full.summary()"
      ],
      "execution_count": 11,
      "outputs": [
        {
          "output_type": "stream",
          "text": [
            "Model: \"full\"\n",
            "__________________________________________________________________________________________________\n",
            "Layer (type)                    Output Shape         Param #     Connected to                     \n",
            "==================================================================================================\n",
            "input_2 (InputLayer)            [(None, 32, 32, 3)]  0                                            \n",
            "__________________________________________________________________________________________________\n",
            "root (mpu)                      (None, 32, 32, 64)   38976       input_2[0][0]                    \n",
            "__________________________________________________________________________________________________\n",
            "nalive (mpu)                    [(None, 1), (None, 3 164353      root[0][0]                       \n",
            "__________________________________________________________________________________________________\n",
            "alive (mpu)                     [(None, 1), (None, 3 164353      root[0][0]                       \n",
            "__________________________________________________________________________________________________\n",
            "road (mpu)                      [(None, 1), (None, 3 164353      nalive[0][1]                     \n",
            "__________________________________________________________________________________________________\n",
            "pet (mpu)                       [(None, 1), (None, 3 164353      alive[0][1]                      \n",
            "__________________________________________________________________________________________________\n",
            "medium (mpu)                    [(None, 1), (None, 3 164353      alive[0][1]                      \n",
            "__________________________________________________________________________________________________\n",
            "plane (mpu)                     (None, 1)            90241       nalive[0][1]                     \n",
            "__________________________________________________________________________________________________\n",
            "auto (mpu)                      (None, 1)            90241       road[0][1]                       \n",
            "__________________________________________________________________________________________________\n",
            "bird (mpu)                      (None, 1)            90241       alive[0][1]                      \n",
            "__________________________________________________________________________________________________\n",
            "cat (mpu)                       (None, 1)            90241       pet[0][1]                        \n",
            "__________________________________________________________________________________________________\n",
            "horse (mpu)                     (None, 1)            90241       medium[0][1]                     \n",
            "__________________________________________________________________________________________________\n",
            "dog (mpu)                       (None, 1)            90241       pet[0][1]                        \n",
            "__________________________________________________________________________________________________\n",
            "frog (mpu)                      (None, 1)            90241       alive[0][1]                      \n",
            "__________________________________________________________________________________________________\n",
            "deer (mpu)                      (None, 1)            90241       medium[0][1]                     \n",
            "__________________________________________________________________________________________________\n",
            "ship (mpu)                      (None, 1)            90241       nalive[0][1]                     \n",
            "__________________________________________________________________________________________________\n",
            "truck (mpu)                     (None, 1)            90241       road[0][1]                       \n",
            "__________________________________________________________________________________________________\n",
            "coarse1 (Concatenate)           (None, 2)            0           nalive[0][0]                     \n",
            "                                                                 alive[0][0]                      \n",
            "__________________________________________________________________________________________________\n",
            "coarse2 (Concatenate)           (None, 3)            0           road[0][0]                       \n",
            "                                                                 pet[0][0]                        \n",
            "                                                                 medium[0][0]                     \n",
            "__________________________________________________________________________________________________\n",
            "fine (Concatenate)              (None, 10)           0           plane[0][0]                      \n",
            "                                                                 auto[0][0]                       \n",
            "                                                                 bird[0][0]                       \n",
            "                                                                 cat[0][0]                        \n",
            "                                                                 horse[0][0]                      \n",
            "                                                                 dog[0][0]                        \n",
            "                                                                 frog[0][0]                       \n",
            "                                                                 deer[0][0]                       \n",
            "                                                                 ship[0][0]                       \n",
            "                                                                 truck[0][0]                      \n",
            "==================================================================================================\n",
            "Total params: 1,763,151\n",
            "Trainable params: 1,762,383\n",
            "Non-trainable params: 768\n",
            "__________________________________________________________________________________________________\n"
          ],
          "name": "stdout"
        }
      ]
    },
    {
      "cell_type": "markdown",
      "metadata": {
        "id": "m-aVkY7vCqjb",
        "colab_type": "text"
      },
      "source": [
        "dataset ys for the models"
      ]
    },
    {
      "cell_type": "code",
      "metadata": {
        "id": "MmPmHiDRCt9m",
        "colab_type": "code",
        "colab": {}
      },
      "source": [
        "coarse1_train, coarse1_test = make_level([[0, 1, 8, 9], [2, 3, 4, 5, 6, 7]])\n",
        "coarse2_train, coarse2_test = make_level([[1, 9], [3, 5], [4, 7]])"
      ],
      "execution_count": 12,
      "outputs": []
    },
    {
      "cell_type": "code",
      "metadata": {
        "id": "XkxQCQ0UwAlA",
        "colab_type": "code",
        "colab": {}
      },
      "source": [
        "for i in range(20):\n",
        "  print(y_test[i], coarse_test[i])"
      ],
      "execution_count": null,
      "outputs": []
    },
    {
      "cell_type": "code",
      "metadata": {
        "id": "-15S7DSFGRx_",
        "colab_type": "code",
        "colab": {}
      },
      "source": [
        "adam = optimizers.Adam(learning_rate=0.0001)\n",
        "sgd = optimizers.SGD(learning_rate=0.0005, momentum=0.9, nesterov=True)\n",
        "full_callback = tf.keras.callbacks.TensorBoard(log_dir=\"./full\")\n",
        "import functools\n",
        "top3_acc = functools.partial(keras.metrics.top_k_categorical_accuracy, k=3)\n",
        "full.compile(loss='categorical_crossentropy', optimizer=sgd, metrics=['accuracy'])\n",
        "# rooti.compile(loss='categorical_crossentropy', optimizer=adam, metrics=['accuracy'])\n",
        "# nalivei.compile(loss='categorical_crossentropy', optimizer=adam, metrics=['accuracy'])\n",
        "# alivei.compile(loss='categorical_crossentropy', optimizer=adam, metrics=['accuracy'])\n",
        "# roadi.compile(loss='categorical_crossentropy', optimizer=adam, metrics=['accuracy'])\n",
        "# peti.compile(loss='categorical_crossentropy', optimizer=adam, metrics=['accuracy'])\n",
        "# mediumi.compile(loss='categorical_crossentropy', optimizer=adam, metrics=['accuracy'])\n",
        "!rm -rf ./full/ "
      ],
      "execution_count": 14,
      "outputs": []
    },
    {
      "cell_type": "code",
      "metadata": {
        "id": "BdgZMEUpEoul",
        "colab_type": "code",
        "colab": {
          "base_uri": "https://localhost:8080/",
          "height": 1000
        },
        "outputId": "27d3a104-293e-46af-c810-80d802aad0df"
      },
      "source": [
        "with tf.device('/GPU:0'):\n",
        "  full.fit(x_train, [coarse1_train, coarse2_train, y_train], epochs=30, batch_size=64,validation_data=(x_test, [coarse1_test, coarse2_test, y_test]))"
      ],
      "execution_count": 18,
      "outputs": [
        {
          "output_type": "stream",
          "text": [
            "Epoch 1/30\n",
            "1563/1563 [==============================] - 147s 94ms/step - loss: 4.7629 - coarse1_loss: 0.4101 - coarse2_loss: 0.5774 - fine_loss: 1.9773 - coarse1_accuracy: 0.8008 - coarse2_accuracy: 0.3507 - fine_accuracy: 0.2469 - val_loss: 4.4899 - val_coarse1_loss: 0.3254 - val_coarse2_loss: 0.5274 - val_fine_loss: 1.8673 - val_coarse1_accuracy: 0.8620 - val_coarse2_accuracy: 0.3151 - val_fine_accuracy: 0.3298\n",
            "Epoch 2/30\n",
            "1563/1563 [==============================] - 145s 93ms/step - loss: 3.9392 - coarse1_loss: 0.2958 - coarse2_loss: 0.3746 - fine_loss: 1.5265 - coarse1_accuracy: 0.8757 - coarse2_accuracy: 0.5400 - fine_accuracy: 0.4568 - val_loss: 4.0259 - val_coarse1_loss: 0.3464 - val_coarse2_loss: 0.3634 - val_fine_loss: 1.6011 - val_coarse1_accuracy: 0.8473 - val_coarse2_accuracy: 0.5388 - val_fine_accuracy: 0.4411\n",
            "Epoch 3/30\n",
            "1563/1563 [==============================] - 145s 93ms/step - loss: 3.5216 - coarse1_loss: 0.2580 - coarse2_loss: 0.2850 - fine_loss: 1.2907 - coarse1_accuracy: 0.8926 - coarse2_accuracy: 0.6120 - fine_accuracy: 0.5416 - val_loss: 3.7908 - val_coarse1_loss: 0.2776 - val_coarse2_loss: 0.2774 - val_fine_loss: 1.5748 - val_coarse1_accuracy: 0.8838 - val_coarse2_accuracy: 0.6103 - val_fine_accuracy: 0.4674\n",
            "Epoch 4/30\n",
            "1563/1563 [==============================] - 145s 93ms/step - loss: 3.2475 - coarse1_loss: 0.2384 - coarse2_loss: 0.2407 - fine_loss: 1.1340 - coarse1_accuracy: 0.9014 - coarse2_accuracy: 0.6271 - fine_accuracy: 0.5999 - val_loss: 3.4068 - val_coarse1_loss: 0.2494 - val_coarse2_loss: 0.2729 - val_fine_loss: 1.2764 - val_coarse1_accuracy: 0.8951 - val_coarse2_accuracy: 0.5656 - val_fine_accuracy: 0.5584\n",
            "Epoch 5/30\n",
            "1563/1563 [==============================] - 145s 93ms/step - loss: 3.0438 - coarse1_loss: 0.2224 - coarse2_loss: 0.2149 - fine_loss: 1.0246 - coarse1_accuracy: 0.9087 - coarse2_accuracy: 0.6382 - fine_accuracy: 0.6401 - val_loss: 3.2334 - val_coarse1_loss: 0.2927 - val_coarse2_loss: 0.2388 - val_fine_loss: 1.1459 - val_coarse1_accuracy: 0.8738 - val_coarse2_accuracy: 0.6145 - val_fine_accuracy: 0.6046\n",
            "Epoch 6/30\n",
            "1563/1563 [==============================] - 145s 93ms/step - loss: 2.8723 - coarse1_loss: 0.2099 - coarse2_loss: 0.1940 - fine_loss: 0.9379 - coarse1_accuracy: 0.9130 - coarse2_accuracy: 0.6467 - fine_accuracy: 0.6710 - val_loss: 3.2076 - val_coarse1_loss: 0.2362 - val_coarse2_loss: 0.2447 - val_fine_loss: 1.2216 - val_coarse1_accuracy: 0.9004 - val_coarse2_accuracy: 0.5982 - val_fine_accuracy: 0.5814\n",
            "Epoch 7/30\n",
            "1563/1563 [==============================] - 145s 93ms/step - loss: 2.7267 - coarse1_loss: 0.1987 - coarse2_loss: 0.1788 - fine_loss: 0.8691 - coarse1_accuracy: 0.9180 - coarse2_accuracy: 0.6511 - fine_accuracy: 0.6960 - val_loss: 2.9200 - val_coarse1_loss: 0.2444 - val_coarse2_loss: 0.2064 - val_fine_loss: 1.0140 - val_coarse1_accuracy: 0.8991 - val_coarse2_accuracy: 0.6335 - val_fine_accuracy: 0.6526\n",
            "Epoch 8/30\n",
            "1563/1563 [==============================] - 145s 93ms/step - loss: 2.5925 - coarse1_loss: 0.1879 - coarse2_loss: 0.1672 - fine_loss: 0.8068 - coarse1_accuracy: 0.9221 - coarse2_accuracy: 0.6557 - fine_accuracy: 0.7182 - val_loss: 2.9795 - val_coarse1_loss: 0.2044 - val_coarse2_loss: 0.2602 - val_fine_loss: 1.1085 - val_coarse1_accuracy: 0.9182 - val_coarse2_accuracy: 0.6188 - val_fine_accuracy: 0.6164\n",
            "Epoch 9/30\n",
            "1563/1563 [==============================] - 145s 92ms/step - loss: 2.4800 - coarse1_loss: 0.1805 - coarse2_loss: 0.1583 - fine_loss: 0.7589 - coarse1_accuracy: 0.9261 - coarse2_accuracy: 0.6574 - fine_accuracy: 0.7369 - val_loss: 2.7166 - val_coarse1_loss: 0.2007 - val_coarse2_loss: 0.1906 - val_fine_loss: 0.9667 - val_coarse1_accuracy: 0.9176 - val_coarse2_accuracy: 0.6196 - val_fine_accuracy: 0.6704\n",
            "Epoch 10/30\n",
            "1563/1563 [==============================] - 145s 92ms/step - loss: 2.3686 - coarse1_loss: 0.1717 - coarse2_loss: 0.1475 - fine_loss: 0.7141 - coarse1_accuracy: 0.9290 - coarse2_accuracy: 0.6621 - fine_accuracy: 0.7518 - val_loss: 2.6011 - val_coarse1_loss: 0.1925 - val_coarse2_loss: 0.1780 - val_fine_loss: 0.9184 - val_coarse1_accuracy: 0.9236 - val_coarse2_accuracy: 0.6284 - val_fine_accuracy: 0.6835\n",
            "Epoch 11/30\n",
            "1563/1563 [==============================] - 145s 93ms/step - loss: 2.2669 - coarse1_loss: 0.1642 - coarse2_loss: 0.1400 - fine_loss: 0.6734 - coarse1_accuracy: 0.9316 - coarse2_accuracy: 0.6629 - fine_accuracy: 0.7652 - val_loss: 2.4476 - val_coarse1_loss: 0.1726 - val_coarse2_loss: 0.1630 - val_fine_loss: 0.8454 - val_coarse1_accuracy: 0.9297 - val_coarse2_accuracy: 0.6604 - val_fine_accuracy: 0.7115\n",
            "Epoch 12/30\n",
            "1563/1563 [==============================] - 145s 93ms/step - loss: 2.1755 - coarse1_loss: 0.1580 - coarse2_loss: 0.1341 - fine_loss: 0.6390 - coarse1_accuracy: 0.9344 - coarse2_accuracy: 0.6654 - fine_accuracy: 0.7770 - val_loss: 2.4856 - val_coarse1_loss: 0.1935 - val_coarse2_loss: 0.1651 - val_fine_loss: 0.9047 - val_coarse1_accuracy: 0.9205 - val_coarse2_accuracy: 0.6477 - val_fine_accuracy: 0.6991\n",
            "Epoch 13/30\n",
            "1563/1563 [==============================] - 145s 93ms/step - loss: 2.0820 - coarse1_loss: 0.1513 - coarse2_loss: 0.1260 - fine_loss: 0.6042 - coarse1_accuracy: 0.9379 - coarse2_accuracy: 0.6682 - fine_accuracy: 0.7896 - val_loss: 2.3235 - val_coarse1_loss: 0.1815 - val_coarse2_loss: 0.1541 - val_fine_loss: 0.8089 - val_coarse1_accuracy: 0.9256 - val_coarse2_accuracy: 0.6507 - val_fine_accuracy: 0.7301\n",
            "Epoch 14/30\n",
            "1563/1563 [==============================] - 145s 93ms/step - loss: 1.9939 - coarse1_loss: 0.1449 - coarse2_loss: 0.1211 - fine_loss: 0.5700 - coarse1_accuracy: 0.9403 - coarse2_accuracy: 0.6707 - fine_accuracy: 0.8015 - val_loss: 2.2832 - val_coarse1_loss: 0.1665 - val_coarse2_loss: 0.1533 - val_fine_loss: 0.8265 - val_coarse1_accuracy: 0.9345 - val_coarse2_accuracy: 0.6719 - val_fine_accuracy: 0.7264\n",
            "Epoch 15/30\n",
            "1563/1563 [==============================] - 145s 93ms/step - loss: 1.9173 - coarse1_loss: 0.1395 - coarse2_loss: 0.1144 - fine_loss: 0.5469 - coarse1_accuracy: 0.9425 - coarse2_accuracy: 0.6708 - fine_accuracy: 0.8096 - val_loss: 2.1896 - val_coarse1_loss: 0.1710 - val_coarse2_loss: 0.1533 - val_fine_loss: 0.7693 - val_coarse1_accuracy: 0.9302 - val_coarse2_accuracy: 0.6703 - val_fine_accuracy: 0.7437\n",
            "Epoch 16/30\n",
            "1563/1563 [==============================] - 145s 92ms/step - loss: 1.8403 - coarse1_loss: 0.1345 - coarse2_loss: 0.1083 - fine_loss: 0.5215 - coarse1_accuracy: 0.9448 - coarse2_accuracy: 0.6741 - fine_accuracy: 0.8188 - val_loss: 2.1461 - val_coarse1_loss: 0.1713 - val_coarse2_loss: 0.1478 - val_fine_loss: 0.7708 - val_coarse1_accuracy: 0.9332 - val_coarse2_accuracy: 0.6641 - val_fine_accuracy: 0.7471\n",
            "Epoch 17/30\n",
            "1563/1563 [==============================] - 144s 92ms/step - loss: 1.7649 - coarse1_loss: 0.1291 - coarse2_loss: 0.1035 - fine_loss: 0.4956 - coarse1_accuracy: 0.9465 - coarse2_accuracy: 0.6762 - fine_accuracy: 0.8274 - val_loss: 2.0986 - val_coarse1_loss: 0.1576 - val_coarse2_loss: 0.1473 - val_fine_loss: 0.7763 - val_coarse1_accuracy: 0.9357 - val_coarse2_accuracy: 0.6662 - val_fine_accuracy: 0.7471\n",
            "Epoch 18/30\n",
            "1563/1563 [==============================] - 144s 92ms/step - loss: 1.6957 - coarse1_loss: 0.1240 - coarse2_loss: 0.0997 - fine_loss: 0.4735 - coarse1_accuracy: 0.9490 - coarse2_accuracy: 0.6756 - fine_accuracy: 0.8335 - val_loss: 2.1286 - val_coarse1_loss: 0.1665 - val_coarse2_loss: 0.1555 - val_fine_loss: 0.8270 - val_coarse1_accuracy: 0.9346 - val_coarse2_accuracy: 0.6448 - val_fine_accuracy: 0.7346\n",
            "Epoch 19/30\n",
            "1563/1563 [==============================] - 144s 92ms/step - loss: 1.6282 - coarse1_loss: 0.1189 - coarse2_loss: 0.0956 - fine_loss: 0.4524 - coarse1_accuracy: 0.9510 - coarse2_accuracy: 0.6798 - fine_accuracy: 0.8424 - val_loss: 2.0584 - val_coarse1_loss: 0.1591 - val_coarse2_loss: 0.1614 - val_fine_loss: 0.7950 - val_coarse1_accuracy: 0.9358 - val_coarse2_accuracy: 0.6576 - val_fine_accuracy: 0.7446\n",
            "Epoch 20/30\n",
            "1563/1563 [==============================] - 144s 92ms/step - loss: 1.5610 - coarse1_loss: 0.1153 - coarse2_loss: 0.0904 - fine_loss: 0.4302 - coarse1_accuracy: 0.9523 - coarse2_accuracy: 0.6791 - fine_accuracy: 0.8488 - val_loss: 1.9888 - val_coarse1_loss: 0.1568 - val_coarse2_loss: 0.1453 - val_fine_loss: 0.7793 - val_coarse1_accuracy: 0.9363 - val_coarse2_accuracy: 0.6693 - val_fine_accuracy: 0.7511\n",
            "Epoch 21/30\n",
            "1563/1563 [==============================] - 144s 92ms/step - loss: 1.5014 - coarse1_loss: 0.1116 - coarse2_loss: 0.0866 - fine_loss: 0.4132 - coarse1_accuracy: 0.9544 - coarse2_accuracy: 0.6816 - fine_accuracy: 0.8550 - val_loss: 1.9417 - val_coarse1_loss: 0.1547 - val_coarse2_loss: 0.1531 - val_fine_loss: 0.7610 - val_coarse1_accuracy: 0.9380 - val_coarse2_accuracy: 0.6869 - val_fine_accuracy: 0.7569\n",
            "Epoch 22/30\n",
            "1563/1563 [==============================] - 145s 92ms/step - loss: 1.4398 - coarse1_loss: 0.1067 - coarse2_loss: 0.0830 - fine_loss: 0.3942 - coarse1_accuracy: 0.9561 - coarse2_accuracy: 0.6824 - fine_accuracy: 0.8618 - val_loss: 1.8497 - val_coarse1_loss: 0.1520 - val_coarse2_loss: 0.1472 - val_fine_loss: 0.7111 - val_coarse1_accuracy: 0.9410 - val_coarse2_accuracy: 0.6841 - val_fine_accuracy: 0.7716\n",
            "Epoch 23/30\n",
            "1563/1563 [==============================] - 145s 93ms/step - loss: 1.3843 - coarse1_loss: 0.1041 - coarse2_loss: 0.0797 - fine_loss: 0.3775 - coarse1_accuracy: 0.9572 - coarse2_accuracy: 0.6861 - fine_accuracy: 0.8681 - val_loss: 1.9146 - val_coarse1_loss: 0.1657 - val_coarse2_loss: 0.1544 - val_fine_loss: 0.7877 - val_coarse1_accuracy: 0.9367 - val_coarse2_accuracy: 0.6881 - val_fine_accuracy: 0.7590\n",
            "Epoch 24/30\n",
            "1563/1563 [==============================] - 145s 93ms/step - loss: 1.3275 - coarse1_loss: 0.0994 - coarse2_loss: 0.0761 - fine_loss: 0.3609 - coarse1_accuracy: 0.9592 - coarse2_accuracy: 0.6850 - fine_accuracy: 0.8741 - val_loss: 2.0576 - val_coarse1_loss: 0.1815 - val_coarse2_loss: 0.1749 - val_fine_loss: 0.9257 - val_coarse1_accuracy: 0.9285 - val_coarse2_accuracy: 0.6856 - val_fine_accuracy: 0.7186\n",
            "Epoch 25/30\n",
            "1563/1563 [==============================] - 145s 92ms/step - loss: 1.2738 - coarse1_loss: 0.0961 - coarse2_loss: 0.0722 - fine_loss: 0.3452 - coarse1_accuracy: 0.9600 - coarse2_accuracy: 0.6885 - fine_accuracy: 0.8790 - val_loss: 1.7806 - val_coarse1_loss: 0.1490 - val_coarse2_loss: 0.1474 - val_fine_loss: 0.7390 - val_coarse1_accuracy: 0.9416 - val_coarse2_accuracy: 0.6854 - val_fine_accuracy: 0.7682\n",
            "Epoch 26/30\n",
            "1563/1563 [==============================] - 145s 92ms/step - loss: 1.2201 - coarse1_loss: 0.0932 - coarse2_loss: 0.0681 - fine_loss: 0.3283 - coarse1_accuracy: 0.9617 - coarse2_accuracy: 0.6903 - fine_accuracy: 0.8836 - val_loss: 1.8121 - val_coarse1_loss: 0.1473 - val_coarse2_loss: 0.1570 - val_fine_loss: 0.7918 - val_coarse1_accuracy: 0.9427 - val_coarse2_accuracy: 0.6893 - val_fine_accuracy: 0.7610\n",
            "Epoch 27/30\n",
            "1563/1563 [==============================] - 145s 93ms/step - loss: 1.1734 - coarse1_loss: 0.0888 - coarse2_loss: 0.0657 - fine_loss: 0.3171 - coarse1_accuracy: 0.9638 - coarse2_accuracy: 0.6901 - fine_accuracy: 0.8870 - val_loss: 1.7463 - val_coarse1_loss: 0.1405 - val_coarse2_loss: 0.1527 - val_fine_loss: 0.7652 - val_coarse1_accuracy: 0.9462 - val_coarse2_accuracy: 0.6631 - val_fine_accuracy: 0.7669\n",
            "Epoch 28/30\n",
            "1563/1563 [==============================] - 145s 93ms/step - loss: 1.1249 - coarse1_loss: 0.0860 - coarse2_loss: 0.0630 - fine_loss: 0.3017 - coarse1_accuracy: 0.9648 - coarse2_accuracy: 0.6898 - fine_accuracy: 0.8930 - val_loss: 1.7472 - val_coarse1_loss: 0.1604 - val_coarse2_loss: 0.1536 - val_fine_loss: 0.7726 - val_coarse1_accuracy: 0.9391 - val_coarse2_accuracy: 0.6859 - val_fine_accuracy: 0.7656\n",
            "Epoch 29/30\n",
            "1563/1563 [==============================] - 146s 93ms/step - loss: 1.0793 - coarse1_loss: 0.0835 - coarse2_loss: 0.0611 - fine_loss: 0.2873 - coarse1_accuracy: 0.9654 - coarse2_accuracy: 0.6908 - fine_accuracy: 0.8976 - val_loss: 1.6702 - val_coarse1_loss: 0.1466 - val_coarse2_loss: 0.1515 - val_fine_loss: 0.7378 - val_coarse1_accuracy: 0.9427 - val_coarse2_accuracy: 0.6781 - val_fine_accuracy: 0.7762\n",
            "Epoch 30/30\n",
            "1563/1563 [==============================] - 146s 93ms/step - loss: 1.0361 - coarse1_loss: 0.0812 - coarse2_loss: 0.0575 - fine_loss: 0.2758 - coarse1_accuracy: 0.9667 - coarse2_accuracy: 0.6939 - fine_accuracy: 0.9016 - val_loss: 1.6842 - val_coarse1_loss: 0.1613 - val_coarse2_loss: 0.1587 - val_fine_loss: 0.7553 - val_coarse1_accuracy: 0.9418 - val_coarse2_accuracy: 0.6933 - val_fine_accuracy: 0.7773\n"
          ],
          "name": "stdout"
        }
      ]
    },
    {
      "cell_type": "code",
      "metadata": {
        "id": "rhd-X87xv4bd",
        "colab_type": "code",
        "colab": {}
      },
      "source": [
        "with tf.device('/GPU:0'):\n",
        "  seq.fit(x_train, y_train, epochs=30, batch_size=64,validation_data=(x_test, y_test))"
      ],
      "execution_count": null,
      "outputs": []
    },
    {
      "cell_type": "code",
      "metadata": {
        "id": "WtzDwlnYfJvI",
        "colab_type": "code",
        "colab": {}
      },
      "source": [
        "seq.predict(x_test[:10])"
      ],
      "execution_count": null,
      "outputs": []
    },
    {
      "cell_type": "code",
      "metadata": {
        "id": "yol0HIn-yoxQ",
        "colab_type": "code",
        "colab": {}
      },
      "source": [
        ""
      ],
      "execution_count": null,
      "outputs": []
    },
    {
      "cell_type": "code",
      "metadata": {
        "id": "L2QHzEk_vcYc",
        "colab_type": "code",
        "colab": {}
      },
      "source": [
        "full.load_weights('ceb.hdf5')"
      ],
      "execution_count": null,
      "outputs": []
    },
    {
      "cell_type": "code",
      "metadata": {
        "id": "wnuXCSHrndOg",
        "colab_type": "code",
        "colab": {}
      },
      "source": [
        "full.predict(x_test[:5])"
      ],
      "execution_count": null,
      "outputs": []
    },
    {
      "cell_type": "code",
      "metadata": {
        "id": "z2bKuunFQir1",
        "colab_type": "code",
        "colab": {
          "base_uri": "https://localhost:8080/",
          "height": 343
        },
        "outputId": "2a040fbb-a8e2-46c2-a554-a911ebb61a55"
      },
      "source": [
        "# full.load_weights('ceb.hdf5')\n",
        "import functools\n",
        "top3_acc = functools.partial(keras.metrics.top_k_categorical_accuracy, k=3)\n",
        "\n",
        "top3_acc.__name__ = 'top3_acc'\n",
        "# seq.compile(loss='categorical_crossentropy', optimizer=sgd, metrics=['accuracy',top3_acc])\n",
        "# ])\n",
        "# model.compile(Adam(lr=.001),#\n",
        "#     optimizers.RMSprop(lr=2e-5),\n",
        "#         loss='categorical_crossentropy',\n",
        "#         metrics=['accuracy','top_k_categorical_accuracy',top3_acc])\n",
        "\n",
        "#     model.evaluate(X_test, y_test)\n",
        "full.evaluate(x_test, [coarse1_test, coarse2_test, y_test])"
      ],
      "execution_count": null,
      "outputs": [
        {
          "output_type": "error",
          "ename": "TypeError",
          "evalue": "ignored",
          "traceback": [
            "\u001b[0;31m---------------------------------------------------------------------------\u001b[0m",
            "\u001b[0;31mTypeError\u001b[0m                                 Traceback (most recent call last)",
            "\u001b[0;32m<ipython-input-18-930ed86c941d>\u001b[0m in \u001b[0;36m<module>\u001b[0;34m()\u001b[0m\n\u001b[1;32m     12\u001b[0m \u001b[0;34m\u001b[0m\u001b[0m\n\u001b[1;32m     13\u001b[0m \u001b[0;31m#     model.evaluate(X_test, y_test)\u001b[0m\u001b[0;34m\u001b[0m\u001b[0;34m\u001b[0m\u001b[0;34m\u001b[0m\u001b[0m\n\u001b[0;32m---> 14\u001b[0;31m \u001b[0mfull\u001b[0m\u001b[0;34m.\u001b[0m\u001b[0mevaluate\u001b[0m\u001b[0;34m(\u001b[0m\u001b[0mx_test\u001b[0m\u001b[0;34m,\u001b[0m \u001b[0;34m[\u001b[0m\u001b[0mcoarse1_test\u001b[0m\u001b[0;34m,\u001b[0m \u001b[0mcoarse2_test\u001b[0m\u001b[0;34m,\u001b[0m \u001b[0my_test\u001b[0m\u001b[0;34m]\u001b[0m\u001b[0;34m)\u001b[0m\u001b[0;34m\u001b[0m\u001b[0;34m\u001b[0m\u001b[0m\n\u001b[0m",
            "\u001b[0;32m/usr/local/lib/python3.6/dist-packages/tensorflow/python/keras/engine/training.py\u001b[0m in \u001b[0;36m_method_wrapper\u001b[0;34m(self, *args, **kwargs)\u001b[0m\n\u001b[1;32m     64\u001b[0m   \u001b[0;32mdef\u001b[0m \u001b[0m_method_wrapper\u001b[0m\u001b[0;34m(\u001b[0m\u001b[0mself\u001b[0m\u001b[0;34m,\u001b[0m \u001b[0;34m*\u001b[0m\u001b[0margs\u001b[0m\u001b[0;34m,\u001b[0m \u001b[0;34m**\u001b[0m\u001b[0mkwargs\u001b[0m\u001b[0;34m)\u001b[0m\u001b[0;34m:\u001b[0m\u001b[0;34m\u001b[0m\u001b[0;34m\u001b[0m\u001b[0m\n\u001b[1;32m     65\u001b[0m     \u001b[0;32mif\u001b[0m \u001b[0;32mnot\u001b[0m \u001b[0mself\u001b[0m\u001b[0;34m.\u001b[0m\u001b[0m_in_multi_worker_mode\u001b[0m\u001b[0;34m(\u001b[0m\u001b[0;34m)\u001b[0m\u001b[0;34m:\u001b[0m  \u001b[0;31m# pylint: disable=protected-access\u001b[0m\u001b[0;34m\u001b[0m\u001b[0;34m\u001b[0m\u001b[0m\n\u001b[0;32m---> 66\u001b[0;31m       \u001b[0;32mreturn\u001b[0m \u001b[0mmethod\u001b[0m\u001b[0;34m(\u001b[0m\u001b[0mself\u001b[0m\u001b[0;34m,\u001b[0m \u001b[0;34m*\u001b[0m\u001b[0margs\u001b[0m\u001b[0;34m,\u001b[0m \u001b[0;34m**\u001b[0m\u001b[0mkwargs\u001b[0m\u001b[0;34m)\u001b[0m\u001b[0;34m\u001b[0m\u001b[0;34m\u001b[0m\u001b[0m\n\u001b[0m\u001b[1;32m     67\u001b[0m \u001b[0;34m\u001b[0m\u001b[0m\n\u001b[1;32m     68\u001b[0m     \u001b[0;31m# Running inside `run_distribute_coordinator` already.\u001b[0m\u001b[0;34m\u001b[0m\u001b[0;34m\u001b[0m\u001b[0;34m\u001b[0m\u001b[0m\n",
            "\u001b[0;32m/usr/local/lib/python3.6/dist-packages/tensorflow/python/keras/engine/training.py\u001b[0m in \u001b[0;36mevaluate\u001b[0;34m(self, x, y, batch_size, verbose, sample_weight, steps, callbacks, max_queue_size, workers, use_multiprocessing, return_dict)\u001b[0m\n\u001b[1;32m   1079\u001b[0m                 step_num=step):\n\u001b[1;32m   1080\u001b[0m               \u001b[0mcallbacks\u001b[0m\u001b[0;34m.\u001b[0m\u001b[0mon_test_batch_begin\u001b[0m\u001b[0;34m(\u001b[0m\u001b[0mstep\u001b[0m\u001b[0;34m)\u001b[0m\u001b[0;34m\u001b[0m\u001b[0;34m\u001b[0m\u001b[0m\n\u001b[0;32m-> 1081\u001b[0;31m               \u001b[0mtmp_logs\u001b[0m \u001b[0;34m=\u001b[0m \u001b[0mtest_function\u001b[0m\u001b[0;34m(\u001b[0m\u001b[0miterator\u001b[0m\u001b[0;34m)\u001b[0m\u001b[0;34m\u001b[0m\u001b[0;34m\u001b[0m\u001b[0m\n\u001b[0m\u001b[1;32m   1082\u001b[0m               \u001b[0;31m# Catch OutOfRangeError for Datasets of unknown size.\u001b[0m\u001b[0;34m\u001b[0m\u001b[0;34m\u001b[0m\u001b[0;34m\u001b[0m\u001b[0m\n\u001b[1;32m   1083\u001b[0m               \u001b[0;31m# This blocks until the batch has finished executing.\u001b[0m\u001b[0;34m\u001b[0m\u001b[0;34m\u001b[0m\u001b[0;34m\u001b[0m\u001b[0m\n",
            "\u001b[0;32m/usr/local/lib/python3.6/dist-packages/tensorflow/python/eager/def_function.py\u001b[0m in \u001b[0;36m__call__\u001b[0;34m(self, *args, **kwds)\u001b[0m\n\u001b[1;32m    578\u001b[0m         \u001b[0mxla_context\u001b[0m\u001b[0;34m.\u001b[0m\u001b[0mExit\u001b[0m\u001b[0;34m(\u001b[0m\u001b[0;34m)\u001b[0m\u001b[0;34m\u001b[0m\u001b[0;34m\u001b[0m\u001b[0m\n\u001b[1;32m    579\u001b[0m     \u001b[0;32melse\u001b[0m\u001b[0;34m:\u001b[0m\u001b[0;34m\u001b[0m\u001b[0;34m\u001b[0m\u001b[0m\n\u001b[0;32m--> 580\u001b[0;31m       \u001b[0mresult\u001b[0m \u001b[0;34m=\u001b[0m \u001b[0mself\u001b[0m\u001b[0;34m.\u001b[0m\u001b[0m_call\u001b[0m\u001b[0;34m(\u001b[0m\u001b[0;34m*\u001b[0m\u001b[0margs\u001b[0m\u001b[0;34m,\u001b[0m \u001b[0;34m**\u001b[0m\u001b[0mkwds\u001b[0m\u001b[0;34m)\u001b[0m\u001b[0;34m\u001b[0m\u001b[0;34m\u001b[0m\u001b[0m\n\u001b[0m\u001b[1;32m    581\u001b[0m \u001b[0;34m\u001b[0m\u001b[0m\n\u001b[1;32m    582\u001b[0m     \u001b[0;32mif\u001b[0m \u001b[0mtracing_count\u001b[0m \u001b[0;34m==\u001b[0m \u001b[0mself\u001b[0m\u001b[0;34m.\u001b[0m\u001b[0m_get_tracing_count\u001b[0m\u001b[0;34m(\u001b[0m\u001b[0;34m)\u001b[0m\u001b[0;34m:\u001b[0m\u001b[0;34m\u001b[0m\u001b[0;34m\u001b[0m\u001b[0m\n",
            "\u001b[0;32m/usr/local/lib/python3.6/dist-packages/tensorflow/python/eager/def_function.py\u001b[0m in \u001b[0;36m_call\u001b[0;34m(self, *args, **kwds)\u001b[0m\n\u001b[1;32m    609\u001b[0m       \u001b[0;31m# In this case we have created variables on the first call, so we run the\u001b[0m\u001b[0;34m\u001b[0m\u001b[0;34m\u001b[0m\u001b[0;34m\u001b[0m\u001b[0m\n\u001b[1;32m    610\u001b[0m       \u001b[0;31m# defunned version which is guaranteed to never create variables.\u001b[0m\u001b[0;34m\u001b[0m\u001b[0;34m\u001b[0m\u001b[0;34m\u001b[0m\u001b[0m\n\u001b[0;32m--> 611\u001b[0;31m       \u001b[0;32mreturn\u001b[0m \u001b[0mself\u001b[0m\u001b[0;34m.\u001b[0m\u001b[0m_stateless_fn\u001b[0m\u001b[0;34m(\u001b[0m\u001b[0;34m*\u001b[0m\u001b[0margs\u001b[0m\u001b[0;34m,\u001b[0m \u001b[0;34m**\u001b[0m\u001b[0mkwds\u001b[0m\u001b[0;34m)\u001b[0m  \u001b[0;31m# pylint: disable=not-callable\u001b[0m\u001b[0;34m\u001b[0m\u001b[0;34m\u001b[0m\u001b[0m\n\u001b[0m\u001b[1;32m    612\u001b[0m     \u001b[0;32melif\u001b[0m \u001b[0mself\u001b[0m\u001b[0;34m.\u001b[0m\u001b[0m_stateful_fn\u001b[0m \u001b[0;32mis\u001b[0m \u001b[0;32mnot\u001b[0m \u001b[0;32mNone\u001b[0m\u001b[0;34m:\u001b[0m\u001b[0;34m\u001b[0m\u001b[0;34m\u001b[0m\u001b[0m\n\u001b[1;32m    613\u001b[0m       \u001b[0;31m# Release the lock early so that multiple threads can perform the call\u001b[0m\u001b[0;34m\u001b[0m\u001b[0;34m\u001b[0m\u001b[0;34m\u001b[0m\u001b[0m\n",
            "\u001b[0;31mTypeError\u001b[0m: 'NoneType' object is not callable"
          ]
        }
      ]
    },
    {
      "cell_type": "code",
      "metadata": {
        "id": "XwNon_SOs9Is",
        "colab_type": "code",
        "colab": {}
      },
      "source": [
        "%tensorboard --logdir full"
      ],
      "execution_count": null,
      "outputs": []
    },
    {
      "cell_type": "markdown",
      "metadata": {
        "id": "hePoJMbvG00X",
        "colab_type": "text"
      },
      "source": [
        "### Test The Networks"
      ]
    },
    {
      "cell_type": "code",
      "metadata": {
        "id": "q7XGfCMCKOGc",
        "colab_type": "code",
        "colab": {}
      },
      "source": [
        "# all = Model(imp, [coarse, interM, fine])\n",
        "tests = full.predict(x_test)"
      ],
      "execution_count": null,
      "outputs": []
    },
    {
      "cell_type": "code",
      "metadata": {
        "id": "SrJ0wXzgtpQb",
        "colab_type": "code",
        "colab": {}
      },
      "source": [
        "# count = 0\n",
        "# for t in tests:\n",
        "#   print(count)\n",
        "#   count += 1\n",
        "#   print(t[:30])"
      ],
      "execution_count": null,
      "outputs": []
    },
    {
      "cell_type": "code",
      "metadata": {
        "id": "QBfmkuJz9xOn",
        "colab_type": "code",
        "colab": {
          "base_uri": "https://localhost:8080/",
          "height": 34
        },
        "outputId": "d6a9d0e1-0d01-471e-c97d-67907255fc3e"
      },
      "source": [
        "abovep1 = 0\n",
        "for i in tests[2]:\n",
        "  if np.argmax(i) > 0:\n",
        "    abovep1 += 1\n",
        "print(abovep1, \"/\", len(tests[0]), '(', str(100*abovep1/len(tests[0])) + '%', ')')"
      ],
      "execution_count": null,
      "outputs": [
        {
          "output_type": "stream",
          "text": [
            "9140 / 10000 ( 91.4% )\n"
          ],
          "name": "stdout"
        }
      ]
    },
    {
      "cell_type": "code",
      "metadata": {
        "id": "IMszhAKuRwFM",
        "colab_type": "code",
        "colab": {
          "base_uri": "https://localhost:8080/",
          "height": 120
        },
        "outputId": "b98a3e51-9129-467c-a508-d507330272d1"
      },
      "source": [
        "import copy\n",
        "hierarchy = {\n",
        "    0: [[0, 0],         [2, 0]],\n",
        "    8: [[0, 0],         [2, 8]],\n",
        "    1: [[0, 0], [1, 0], [2, 1]],\n",
        "    9: [[0, 0], [1, 0], [2, 9]],\n",
        "    2: [[0, 1],         [2, 2]],\n",
        "    6: [[0, 1],         [2, 6]],\n",
        "    3: [[0, 1], [1, 1], [2, 3]],\n",
        "    5: [[0, 1], [1, 1], [2, 5]],\n",
        "    4: [[0, 1], [1, 2], [2, 4]],\n",
        "    7: [[0, 1], [1, 2], [2, 7]]\n",
        "}\n",
        "\n",
        "\n",
        "lt = len(tests[0])\n",
        "# threshold = 1e-4\n",
        "\n",
        "for threshold in [1e-6, 1e-5, 1e-4, 1e-3, 1e-2, 1e-1]:\n",
        "  total = 0\n",
        "  allZero = 0\n",
        "  for i in range(lt):\n",
        "    arg = np.argmax(y_test[i])\n",
        "    pos = hierarchy[arg]\n",
        "    passed = True\n",
        "\n",
        "\n",
        "\n",
        "    finals = copy.deepcopy(tests[2][i])\n",
        "    # print(arg, finals)\n",
        "\n",
        "    # conditional\n",
        "\n",
        "    if tests[0][i][0] < threshold:\n",
        "      finals[0], finals[1], finals[8], finals[9] = 0, 0, 0, 0\n",
        "    if tests[0][i][1] < threshold:\n",
        "      finals[2], finals[3], finals[4], finals[5], finals[6], finals[7] = 0, 0, 0, 0, 0, 0\n",
        "    if tests[1][i][0] < threshold: finals[1], finals[9] = 0, 0\n",
        "    if tests[1][i][1] < threshold: finals[3], finals[5] = 0, 0\n",
        "    if tests[1][i][2] < threshold: finals[4], finals[7] = 0, 0\n",
        "    for e in range(10):\n",
        "      if finals[e] < threshold: finals[e] = 0\n",
        "\n",
        "\n",
        "    if np.argmax(finals) == arg and any(finals):\n",
        "      total += 1\n",
        "    if not any(finals):\n",
        "      allZero += 1\n",
        "\n",
        "    # full\n",
        "\n",
        "    # print(arg, finals)\n",
        "    # if np.argmax(finals) == arg: total += 1\n",
        "    # indices = (-np.array(finals)).argsort()[:3]\n",
        "    # if arg in indices: total += 1\n",
        "\n",
        "    # single\n",
        "\n",
        "    \n",
        "    # for p in pos:\n",
        "    #   if np.argmax(tests[p[0]][i]) != p[1]: \n",
        "    #     passed = False\n",
        "    #     break\n",
        "    # if passed: total += 1\n",
        "    # break\n",
        "\n",
        "  print(threshold, total/lt, allZero)\n",
        "# print(allZero)\n",
        "\n",
        "\n"
      ],
      "execution_count": null,
      "outputs": [
        {
          "output_type": "stream",
          "text": [
            "1e-06 0.732 1020\n",
            "1e-05 0.6398 2299\n",
            "0.0001 0.4893 4359\n",
            "0.001 0.309 6573\n",
            "0.01 0.1498 8416\n",
            "0.1 0.0513 9469\n"
          ],
          "name": "stdout"
        }
      ]
    }
  ]
}