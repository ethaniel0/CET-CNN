{
  "nbformat": 4,
  "nbformat_minor": 0,
  "metadata": {
    "colab": {
      "name": "Final MPU A cifar10 cebcnn.ipynb",
      "provenance": [],
      "collapsed_sections": [],
      "toc_visible": true,
      "machine_shape": "hm"
    },
    "kernelspec": {
      "name": "python3",
      "display_name": "Python 3"
    },
    "accelerator": "GPU"
  },
  "cells": [
    {
      "cell_type": "code",
      "metadata": {
        "id": "grnBTCO6-Cwt",
        "colab_type": "code",
        "colab": {}
      },
      "source": [
        "import tensorflow as tf\n",
        "from tensorflow import keras\n",
        "from tensorflow.keras.layers import Layer, MaxPooling2D, Flatten, Dense, Conv2D, Input, BatchNormalization, MaxPool2D, Lambda, Concatenate, Dropout\n",
        "from tensorflow.keras import layers\n",
        "from tensorflow.keras.models import Sequential, Model\n",
        "from tensorflow.keras.datasets import cifar10\n",
        "from tensorflow.keras import optimizers\n",
        "from tensorflow.keras.utils import plot_model\n",
        "from tensorflow.keras.callbacks import TensorBoard\n",
        "from tensorflow.keras import regularizers\n",
        "from tensorflow.keras.optimizers import SGD\n",
        "from tensorflow.keras import initializers\n",
        "import tensorflow.keras.backend as K\n",
        "import numpy as np\n",
        "%load_ext tensorboard\n",
        "import datetime\n",
        "!rm -rf ./logs/ "
      ],
      "execution_count": null,
      "outputs": []
    },
    {
      "cell_type": "markdown",
      "metadata": {
        "id": "_ISRTeVnGlkW",
        "colab_type": "text"
      },
      "source": [
        "### Make The Dataset"
      ]
    },
    {
      "cell_type": "code",
      "metadata": {
        "id": "d2LetJiCpmlk",
        "colab_type": "code",
        "colab": {}
      },
      "source": [
        "def unison_shuffled_copies(a, b):\n",
        "    assert len(a) == len(b)\n",
        "    p = np.random.permutation(len(a))\n",
        "    return a[p], b[p]"
      ],
      "execution_count": null,
      "outputs": []
    },
    {
      "cell_type": "code",
      "metadata": {
        "id": "y-0M6iDU50hs",
        "colab_type": "code",
        "colab": {
          "base_uri": "https://localhost:8080/",
          "height": 103
        },
        "outputId": "9ffc1310-9eec-4b04-d7fc-deb7c97c1fc3"
      },
      "source": [
        "(x_train, y_train), (x_test, y_test) = cifar10.load_data()\n",
        "x_train = x_train / 255\n",
        "x_test = x_test / 255\n",
        "\n",
        "# y_train = keras.utils.to_categorical(y_train, 10)\n",
        "# y_test = keras.utils.to_categorical(y_test, 10)\n",
        "\n",
        "image_size = (32,32,3)\n",
        "\n",
        "# flip images\n",
        "x_train_flipped = np.flip(x_train, axis=3)\n",
        "x_train = np.append(x_train, x_train_flipped, axis=0)\n",
        "y_train = np.append(y_train, np.copy(y_train), axis=0)\n",
        "x_train_flipped = None\n",
        "print('flipped')\n",
        "\n",
        "# put in CEDA\n",
        "# rands = (np.random.rand(len(x_train)//10,32,32,3)*255).astype(int)\n",
        "# yrands = np.tile(-1, len(x_train)//10).reshape(len(x_train)//10, 1)\n",
        "# y_train = np.append(y_train, yrands, axis=0)\n",
        "# x_train = np.append(x_train, rands, axis=0)\n",
        "# rands = None\n",
        "# yrands = None\n",
        "# print('CEDA done')\n",
        "\n",
        "# mix it up\n",
        "x_train, y_train = unison_shuffled_copies(x_train, y_train)\n",
        "print('permuted')\n",
        "print(x_train.shape, y_train.shape)"
      ],
      "execution_count": null,
      "outputs": [
        {
          "output_type": "stream",
          "text": [
            "Downloading data from https://www.cs.toronto.edu/~kriz/cifar-10-python.tar.gz\n",
            "170500096/170498071 [==============================] - 11s 0us/step\n",
            "flipped\n",
            "permuted\n",
            "(100000, 32, 32, 3) (100000, 1)\n"
          ],
          "name": "stdout"
        }
      ]
    },
    {
      "cell_type": "code",
      "metadata": {
        "id": "y8UaPZBoCa3k",
        "colab_type": "code",
        "colab": {}
      },
      "source": [
        "def make_set(nums):\n",
        "  ytrain = np.zeros((y_train.shape[0], len(nums)))\n",
        "  ytest = np.zeros((y_test.shape[0], len(nums)))\n",
        "\n",
        "  for i in range(y_train.shape[0]):\n",
        "    arg = y_train[i][0]\n",
        "    for x in range(len(nums)):\n",
        "      if arg in nums[x]:\n",
        "        ytrain[i][x] = 1.0\n",
        "        made1 = True\n",
        "\n",
        "  for i in range(y_test.shape[0]):\n",
        "    arg = y_train[i][0]\n",
        "    for x in range(len(nums)):\n",
        "      if arg in nums[x]:\n",
        "        ytest[i][x] = 1.0\n",
        "        made1 = True\n",
        "  \n",
        "  return ytrain, ytest"
      ],
      "execution_count": null,
      "outputs": []
    },
    {
      "cell_type": "code",
      "metadata": {
        "id": "Dyfmce3Yoe0j",
        "colab_type": "code",
        "colab": {}
      },
      "source": [
        "l1 = 1e-4\n",
        "l2 = 5e-4\n",
        "def make_class(cin, filters, classes):\n",
        "  c = Conv2D(filters, (3,3), padding=\"same\", activation=\"relu\", kernel_regularizer=regularizers.l1_l2(l1=l1, l2=l2))(cin)\n",
        "  c = MaxPool2D()(c)\n",
        "  c = Conv2D(filters, (3,3), padding=\"same\", activation=\"relu\", kernel_regularizer=regularizers.l1_l2(l1=l1, l2=l2))(c)\n",
        "  c = Conv2D(filters*2, (3,3), padding=\"same\", activation=\"relu\", kernel_regularizer=regularizers.l1_l2(l1=l1, l2=l2))(c)\n",
        "  c = MaxPool2D()(c)\n",
        "  c = Flatten()(c)\n",
        "  c = Dense(128, activation=\"relu\", kernel_regularizer=regularizers.l1_l2(l1=l1, l2=l2))(c)\n",
        "  c = Dense(classes, activation=\"sigmoid\")(c)\n",
        "  return c\n",
        "\n",
        "def MPU(in_shape, out_classes, name=None, class_only = False):\n",
        "  inp = Input(shape=in_shape)\n",
        "  shared = Conv2D(64, (3,3), padding=\"same\", activation=\"relu\", kernel_regularizer=regularizers.l1_l2(l1=l1, l2=l2))(inp)\n",
        "\n",
        "  classifier = make_class(shared, 64, out_classes)\n",
        "\n",
        "  if class_only: return Model(inp, classifier, name=name)\n",
        "\n",
        "  extra = Conv2D(64, (3,3), padding=\"same\", activation=\"relu\", kernel_regularizer=regularizers.l1_l2(l1=l1, l2=l2))(shared)\n",
        "  extra = BatchNormalization()(extra)\n",
        "  extra = Dropout(0.5)(extra)\n",
        "\n",
        "  return Model(inp, [classifier, extra], name=name)\n",
        "\n",
        "# seq = Sequential([\n",
        "#   Input(shape=(32,32,3)),\n",
        "#   Conv2D(64, (3,3), padding=\"same\", activation=\"relu\", kernel_regularizer=regularizers.l1_l2(l1=l1, l2=l2)),\n",
        "#   Conv2D(64, (3,3), padding=\"same\", activation=\"relu\", kernel_regularizer=regularizers.l1_l2(l1=l1, l2=l2)),\n",
        "#   BatchNormalization(),\n",
        "#   Dropout(0.5),\n",
        "#   Conv2D(128, (3,3), padding=\"same\", activation=\"relu\", kernel_regularizer=regularizers.l1_l2(l1=l1, l2=l2)),\n",
        "#   Conv2D(128, (3,3), padding=\"same\", activation=\"relu\", kernel_regularizer=regularizers.l1_l2(l1=l1, l2=l2)),\n",
        "#   BatchNormalization(),\n",
        "#   Dropout(0.5),\n",
        "#   Conv2D(192, (3,3), padding=\"same\", activation=\"relu\", kernel_regularizer=regularizers.l1_l2(l1=l1, l2=l2)),\n",
        "#   Conv2D(192, (3,3), padding=\"same\", activation=\"relu\", kernel_regularizer=regularizers.l1_l2(l1=l1, l2=l2)),\n",
        "#   BatchNormalization(),\n",
        "#   Dropout(0.5),\n",
        "#   Conv2D(192, (3,3), padding=\"same\", activation=\"relu\", kernel_regularizer=regularizers.l1_l2(l1=l1, l2=l2)),\n",
        "#   Conv2D(192, (3,3), padding=\"same\", activation=\"relu\", kernel_regularizer=regularizers.l1_l2(l1=l1, l2=l2)),\n",
        "#   MaxPool2D(),\n",
        "#   Conv2D(192, (3,3), padding=\"same\", activation=\"relu\", kernel_regularizer=regularizers.l1_l2(l1=l1, l2=l2)),\n",
        "#   Conv2D(384, (3,3), padding=\"same\", activation=\"relu\", kernel_regularizer=regularizers.l1_l2(l1=l1, l2=l2)),\n",
        "#   MaxPool2D(),\n",
        "#   Flatten(),\n",
        "#   Dense(256, activation=\"relu\", kernel_regularizer=regularizers.l1_l2(l1=l1, l2=l2)),\n",
        "#   Dense(10, activation=\"softmax\")\n",
        "# ])"
      ],
      "execution_count": null,
      "outputs": []
    },
    {
      "cell_type": "code",
      "metadata": {
        "id": "SIhJQQ6D7aWs",
        "colab_type": "code",
        "colab": {}
      },
      "source": [
        "seq.summary()"
      ],
      "execution_count": null,
      "outputs": []
    },
    {
      "cell_type": "code",
      "metadata": {
        "id": "SDq3_2jK7iDW",
        "colab_type": "code",
        "colab": {}
      },
      "source": [
        "sgd = optimizers.SGD(learning_rate=0.0005, momentum=0.9, nesterov=True)\n",
        "seq.compile(loss='categorical_crossentropy', optimizer=sgd, metrics=['accuracy'])\n",
        "seq.fit(x_train, y_train, batch_size=64, epochs=30, validation_data=(x_test, y_test))"
      ],
      "execution_count": null,
      "outputs": []
    },
    {
      "cell_type": "code",
      "metadata": {
        "id": "jhC-72wFLTtU",
        "colab_type": "code",
        "colab": {}
      },
      "source": [
        "import functools\n",
        "top3_acc = functools.partial(keras.metrics.top_k_categorical_accuracy, k=3)\n",
        "\n",
        "top3_acc.__name__ = 'top3_acc'\n",
        "seq.compile(loss='categorical_crossentropy', optimizer=sgd, metrics=['accuracy',top3_acc])\n",
        "# ])"
      ],
      "execution_count": null,
      "outputs": []
    },
    {
      "cell_type": "code",
      "metadata": {
        "id": "d_cu-8e1LXKy",
        "colab_type": "code",
        "colab": {
          "base_uri": "https://localhost:8080/",
          "height": 51
        },
        "outputId": "5977681a-ee12-44f6-9d50-57543a3a21d3"
      },
      "source": [
        "seq.evaluate(x_test, y_test)"
      ],
      "execution_count": null,
      "outputs": [
        {
          "output_type": "stream",
          "text": [
            "313/313 [==============================] - 3s 10ms/step - loss: 2.3066 - accuracy: 0.7279 - top3_acc: 0.9291\n"
          ],
          "name": "stdout"
        },
        {
          "output_type": "execute_result",
          "data": {
            "text/plain": [
              "[2.306570291519165, 0.7279000282287598, 0.929099977016449]"
            ]
          },
          "metadata": {
            "tags": []
          },
          "execution_count": 11
        }
      ]
    },
    {
      "cell_type": "code",
      "metadata": {
        "id": "v1jtubMD8AA7",
        "colab_type": "code",
        "colab": {
          "base_uri": "https://localhost:8080/",
          "height": 620
        },
        "outputId": "16264731-234d-4ae7-aa6c-e8bfaa6f6e6c"
      },
      "source": [
        "root = MPU((32,32,3), 2, name=\"root\")\n",
        "root.summary()\n",
        "root.save('rootActual.hdf5')\n",
        "nalive = MPU(root.outputs[1].shape[1:], 3, name=\"MPU A\")\n",
        "\n",
        "# nalive.summary()\n",
        "alive = MPU(root.outputs[1].shape[1:], 4, name=\"alive\")\n",
        "road = MPU(nalive.outputs[1].shape[1:], 2, name=\"road\", class_only=True)\n",
        "pet = MPU(alive.outputs[1].shape[1:], 2, name=\"pet\", class_only=True)\n",
        "medium = MPU(alive.outputs[1].shape[1:], 2, name=\"medium\", class_only=True)"
      ],
      "execution_count": null,
      "outputs": [
        {
          "output_type": "stream",
          "text": [
            "Model: \"root\"\n",
            "__________________________________________________________________________________________________\n",
            "Layer (type)                    Output Shape         Param #     Connected to                     \n",
            "==================================================================================================\n",
            "input_25 (InputLayer)           [(None, 32, 32, 3)]  0                                            \n",
            "__________________________________________________________________________________________________\n",
            "conv2d_108 (Conv2D)             (None, 32, 32, 64)   1792        input_25[0][0]                   \n",
            "__________________________________________________________________________________________________\n",
            "conv2d_109 (Conv2D)             (None, 32, 32, 64)   36928       conv2d_108[0][0]                 \n",
            "__________________________________________________________________________________________________\n",
            "max_pooling2d_48 (MaxPooling2D) (None, 16, 16, 64)   0           conv2d_109[0][0]                 \n",
            "__________________________________________________________________________________________________\n",
            "conv2d_110 (Conv2D)             (None, 16, 16, 64)   36928       max_pooling2d_48[0][0]           \n",
            "__________________________________________________________________________________________________\n",
            "conv2d_111 (Conv2D)             (None, 16, 16, 128)  73856       conv2d_110[0][0]                 \n",
            "__________________________________________________________________________________________________\n",
            "max_pooling2d_49 (MaxPooling2D) (None, 8, 8, 128)    0           conv2d_111[0][0]                 \n",
            "__________________________________________________________________________________________________\n",
            "flatten_24 (Flatten)            (None, 8192)         0           max_pooling2d_49[0][0]           \n",
            "__________________________________________________________________________________________________\n",
            "conv2d_112 (Conv2D)             (None, 32, 32, 64)   36928       conv2d_108[0][0]                 \n",
            "__________________________________________________________________________________________________\n",
            "dense_48 (Dense)                (None, 128)          1048704     flatten_24[0][0]                 \n",
            "__________________________________________________________________________________________________\n",
            "batch_normalization_12 (BatchNo (None, 32, 32, 64)   256         conv2d_112[0][0]                 \n",
            "__________________________________________________________________________________________________\n",
            "dense_49 (Dense)                (None, 2)            258         dense_48[0][0]                   \n",
            "__________________________________________________________________________________________________\n",
            "dropout_12 (Dropout)            (None, 32, 32, 64)   0           batch_normalization_12[0][0]     \n",
            "==================================================================================================\n",
            "Total params: 1,235,650\n",
            "Trainable params: 1,235,522\n",
            "Non-trainable params: 128\n",
            "__________________________________________________________________________________________________\n"
          ],
          "name": "stdout"
        }
      ]
    },
    {
      "cell_type": "markdown",
      "metadata": {
        "id": "-7nH6aGy8mPe",
        "colab_type": "text"
      },
      "source": [
        "all the models"
      ]
    },
    {
      "cell_type": "code",
      "metadata": {
        "id": "vxQXciAM8n49",
        "colab_type": "code",
        "colab": {}
      },
      "source": [
        "imp = Input(shape=(32,32,3))\n",
        "rootM = root(imp)\n",
        "naliveM = nalive(rootM[1])\n",
        "aliveM = alive(rootM[1])\n",
        "roadM = road(naliveM[1])\n",
        "petM = pet(aliveM[1])\n",
        "mediumM = medium(aliveM[1])\n",
        "\n",
        "full = Model(imp, [rootM[0], naliveM[0], aliveM[0], roadM, petM, mediumM], name=\"full\")\n",
        "\n",
        "rooti = Model(imp, rootM[0], name=\"root_individual\")\n",
        "nalivei = Model(imp, naliveM[0], name=\"nalive_individual\")\n",
        "alivei = Model(imp, aliveM[0], name=\"alive_individual\")\n",
        "roadi = Model(imp, roadM, name=\"road_individual\")\n",
        "peti = Model(imp, petM, name=\"pet_individual\")\n",
        "mediumi = Model(imp, mediumM, name=\"medium_individual\")"
      ],
      "execution_count": null,
      "outputs": []
    },
    {
      "cell_type": "code",
      "metadata": {
        "id": "sFA4StxMtKN4",
        "colab_type": "code",
        "colab": {
          "base_uri": "https://localhost:8080/",
          "height": 394
        },
        "outputId": "019a273e-f255-4f27-8466-58219a2645b9"
      },
      "source": [
        "full.summary()"
      ],
      "execution_count": null,
      "outputs": [
        {
          "output_type": "stream",
          "text": [
            "Model: \"full\"\n",
            "__________________________________________________________________________________________________\n",
            "Layer (type)                    Output Shape         Param #     Connected to                     \n",
            "==================================================================================================\n",
            "input_14 (InputLayer)           [(None, 32, 32, 3)]  0                                            \n",
            "__________________________________________________________________________________________________\n",
            "root (Model)                    [(None, 2), (None, 3 1198722     input_14[0][0]                   \n",
            "__________________________________________________________________________________________________\n",
            "nalive (Model)                  [(None, 3), (None, 3 1233987     root[1][1]                       \n",
            "__________________________________________________________________________________________________\n",
            "alive (Model)                   [(None, 4), (None, 3 1234116     root[1][1]                       \n",
            "__________________________________________________________________________________________________\n",
            "road (Model)                    (None, 2)            1233602     nalive[1][1]                     \n",
            "__________________________________________________________________________________________________\n",
            "pet (Model)                     (None, 2)            1233602     alive[1][1]                      \n",
            "__________________________________________________________________________________________________\n",
            "medium (Model)                  (None, 2)            1233602     alive[1][1]                      \n",
            "==================================================================================================\n",
            "Total params: 7,367,631\n",
            "Trainable params: 7,367,247\n",
            "Non-trainable params: 384\n",
            "__________________________________________________________________________________________________\n"
          ],
          "name": "stdout"
        }
      ]
    },
    {
      "cell_type": "markdown",
      "metadata": {
        "id": "m-aVkY7vCqjb",
        "colab_type": "text"
      },
      "source": [
        "dataset ys for the models"
      ]
    },
    {
      "cell_type": "code",
      "metadata": {
        "id": "MmPmHiDRCt9m",
        "colab_type": "code",
        "colab": {}
      },
      "source": [
        "rootD_train, rootD_test = make_set([[0, 1, 8, 9], [2, 3, 4, 5, 6]])\n",
        "naliveD_train, naliveD_test = make_set([[0], [8], [1, 9]])\n",
        "aliveD_train, aliveD_test = make_set([[2], [6], [3, 5], [4, 7]])\n",
        "roadD_train, roadD_test = make_set([[1], [9]])\n",
        "petD_train, petD_test = make_set([[3], [5]])\n",
        "mediumD_train, mediumD_test = make_set([[4], [7]])"
      ],
      "execution_count": null,
      "outputs": []
    },
    {
      "cell_type": "code",
      "metadata": {
        "id": "-15S7DSFGRx_",
        "colab_type": "code",
        "colab": {}
      },
      "source": [
        "sgd = optimizers.SGD(learning_rate=0.0005, momentum=0.9, nesterov=True)\n",
        "full.compile(loss='categorical_crossentropy', optimizer=sgd, metrics=['accuracy'])\n",
        "rooti.compile(loss='categorical_crossentropy', optimizer=sgd, metrics=['accuracy'])\n",
        "nalivei.compile(loss='categorical_crossentropy', optimizer=sgd, metrics=['accuracy'])\n",
        "alivei.compile(loss='categorical_crossentropy', optimizer=sgd, metrics=['accuracy'])\n",
        "roadi.compile(loss='categorical_crossentropy', optimizer=sgd, metrics=['accuracy'])\n",
        "peti.compile(loss='categorical_crossentropy', optimizer=sgd, metrics=['accuracy'])\n",
        "mediumi.compile(loss='categorical_crossentropy', optimizer=sgd, metrics=['accuracy'])\n",
        "!rm -rf ./full/ "
      ],
      "execution_count": null,
      "outputs": []
    },
    {
      "cell_type": "code",
      "metadata": {
        "id": "rhd-X87xv4bd",
        "colab_type": "code",
        "colab": {
          "base_uri": "https://localhost:8080/",
          "height": 1000
        },
        "outputId": "01112969-c46b-4368-df7b-0b220f0d5a49"
      },
      "source": [
        "full.fit(x_train, [rootD_train, naliveD_train, aliveD_train, roadD_train, petD_train, mediumD_train], epochs=30, batch_size=64,validation_data=(x_test, [rootD_test, naliveD_test, aliveD_test, roadD_test, petD_test, mediumD_test]))"
      ],
      "execution_count": null,
      "outputs": [
        {
          "output_type": "stream",
          "text": [
            "Epoch 1/30\n",
            "1563/1563 [==============================] - 78s 50ms/step - loss: 15.1166 - root_loss: 0.5337 - nalive_loss: 0.3100 - alive_loss: 0.6866 - road_loss: 0.1292 - pet_loss: 0.1333 - medium_loss: 0.1178 - root_accuracy: 0.6482 - nalive_accuracy: 0.4004 - alive_accuracy: 0.3113 - road_accuracy: 0.6447 - pet_accuracy: 0.5786 - medium_accuracy: 0.4903 - val_loss: 15.5651 - val_root_loss: 0.7790 - val_nalive_loss: 0.5605 - val_alive_loss: 0.9526 - val_road_loss: 0.1464 - val_pet_loss: 0.1431 - val_medium_loss: 0.1574 - val_root_accuracy: 0.5088 - val_nalive_accuracy: 0.2216 - val_alive_accuracy: 0.2189 - val_road_accuracy: 0.5387 - val_pet_accuracy: 0.6909 - val_medium_accuracy: 0.7166\n",
            "Epoch 2/30\n",
            "1563/1563 [==============================] - 77s 49ms/step - loss: 14.0040 - root_loss: 0.3748 - nalive_loss: 0.2442 - alive_loss: 0.5775 - road_loss: 0.1235 - pet_loss: 0.1286 - medium_loss: 0.0988 - root_accuracy: 0.7597 - nalive_accuracy: 0.4891 - alive_accuracy: 0.3998 - road_accuracy: 0.6130 - pet_accuracy: 0.6396 - medium_accuracy: 0.5378 - val_loss: 15.3972 - val_root_loss: 1.0958 - val_nalive_loss: 0.6074 - val_alive_loss: 1.1420 - val_road_loss: 0.1464 - val_pet_loss: 0.1445 - val_medium_loss: 0.1700 - val_root_accuracy: 0.5038 - val_nalive_accuracy: 0.3158 - val_alive_accuracy: 0.2470 - val_road_accuracy: 0.4863 - val_pet_accuracy: 0.5618 - val_medium_accuracy: 0.6837\n",
            "Epoch 3/30\n",
            "1563/1563 [==============================] - 77s 49ms/step - loss: 13.0930 - root_loss: 0.3089 - nalive_loss: 0.2049 - alive_loss: 0.5062 - road_loss: 0.1205 - pet_loss: 0.1257 - medium_loss: 0.0919 - root_accuracy: 0.7905 - nalive_accuracy: 0.5196 - alive_accuracy: 0.4545 - road_accuracy: 0.5780 - pet_accuracy: 0.6551 - medium_accuracy: 0.5854 - val_loss: 14.9129 - val_root_loss: 1.1674 - val_nalive_loss: 0.6715 - val_alive_loss: 1.2351 - val_road_loss: 0.1458 - val_pet_loss: 0.1457 - val_medium_loss: 0.1648 - val_root_accuracy: 0.4998 - val_nalive_accuracy: 0.3464 - val_alive_accuracy: 0.2647 - val_road_accuracy: 0.3975 - val_pet_accuracy: 0.5290 - val_medium_accuracy: 0.6055\n",
            "Epoch 4/30\n",
            "1563/1563 [==============================] - 78s 50ms/step - loss: 12.2742 - root_loss: 0.2896 - nalive_loss: 0.1741 - alive_loss: 0.4473 - road_loss: 0.1139 - pet_loss: 0.1229 - medium_loss: 0.0866 - root_accuracy: 0.7995 - nalive_accuracy: 0.5561 - alive_accuracy: 0.4932 - road_accuracy: 0.5343 - pet_accuracy: 0.6762 - medium_accuracy: 0.6120 - val_loss: 14.3886 - val_root_loss: 1.1609 - val_nalive_loss: 0.7555 - val_alive_loss: 1.2997 - val_road_loss: 0.1467 - val_pet_loss: 0.1504 - val_medium_loss: 0.1741 - val_root_accuracy: 0.5033 - val_nalive_accuracy: 0.3700 - val_alive_accuracy: 0.2504 - val_road_accuracy: 0.4650 - val_pet_accuracy: 0.7334 - val_medium_accuracy: 0.6216\n",
            "Epoch 5/30\n",
            "1563/1563 [==============================] - 77s 50ms/step - loss: 11.4961 - root_loss: 0.2761 - nalive_loss: 0.1487 - alive_loss: 0.4050 - road_loss: 0.0930 - pet_loss: 0.1202 - medium_loss: 0.0807 - root_accuracy: 0.8060 - nalive_accuracy: 0.5762 - alive_accuracy: 0.5131 - road_accuracy: 0.4844 - pet_accuracy: 0.6890 - medium_accuracy: 0.6350 - val_loss: 13.9480 - val_root_loss: 1.2072 - val_nalive_loss: 0.8151 - val_alive_loss: 1.3921 - val_road_loss: 0.1598 - val_pet_loss: 0.1503 - val_medium_loss: 0.1764 - val_root_accuracy: 0.5004 - val_nalive_accuracy: 0.3373 - val_alive_accuracy: 0.2500 - val_road_accuracy: 0.4766 - val_pet_accuracy: 0.5865 - val_medium_accuracy: 0.6090\n",
            "Epoch 6/30\n",
            "1563/1563 [==============================] - 77s 49ms/step - loss: 10.7698 - root_loss: 0.2630 - nalive_loss: 0.1313 - alive_loss: 0.3713 - road_loss: 0.0804 - pet_loss: 0.1172 - medium_loss: 0.0746 - root_accuracy: 0.8136 - nalive_accuracy: 0.5837 - alive_accuracy: 0.5345 - road_accuracy: 0.4863 - pet_accuracy: 0.7075 - medium_accuracy: 0.6518 - val_loss: 13.5751 - val_root_loss: 1.2332 - val_nalive_loss: 0.8764 - val_alive_loss: 1.5320 - val_road_loss: 0.1760 - val_pet_loss: 0.1547 - val_medium_loss: 0.1827 - val_root_accuracy: 0.5008 - val_nalive_accuracy: 0.3548 - val_alive_accuracy: 0.2337 - val_road_accuracy: 0.4162 - val_pet_accuracy: 0.6334 - val_medium_accuracy: 0.4984\n",
            "Epoch 7/30\n",
            "1563/1563 [==============================] - 77s 49ms/step - loss: 10.0840 - root_loss: 0.2517 - nalive_loss: 0.1164 - alive_loss: 0.3395 - road_loss: 0.0736 - pet_loss: 0.1138 - medium_loss: 0.0705 - root_accuracy: 0.8188 - nalive_accuracy: 0.5919 - alive_accuracy: 0.5489 - road_accuracy: 0.5005 - pet_accuracy: 0.7229 - medium_accuracy: 0.6566 - val_loss: 13.0971 - val_root_loss: 1.2996 - val_nalive_loss: 0.8753 - val_alive_loss: 1.5629 - val_road_loss: 0.1813 - val_pet_loss: 0.1603 - val_medium_loss: 0.1973 - val_root_accuracy: 0.5011 - val_nalive_accuracy: 0.3549 - val_alive_accuracy: 0.2338 - val_road_accuracy: 0.4063 - val_pet_accuracy: 0.6603 - val_medium_accuracy: 0.6196\n",
            "Epoch 8/30\n",
            "1563/1563 [==============================] - 78s 50ms/step - loss: 9.4327 - root_loss: 0.2409 - nalive_loss: 0.1048 - alive_loss: 0.3089 - road_loss: 0.0683 - pet_loss: 0.1107 - medium_loss: 0.0668 - root_accuracy: 0.8236 - nalive_accuracy: 0.5963 - alive_accuracy: 0.5647 - road_accuracy: 0.5073 - pet_accuracy: 0.7280 - medium_accuracy: 0.6621 - val_loss: 12.8225 - val_root_loss: 1.3592 - val_nalive_loss: 0.9603 - val_alive_loss: 1.6957 - val_road_loss: 0.1959 - val_pet_loss: 0.1625 - val_medium_loss: 0.2007 - val_root_accuracy: 0.5001 - val_nalive_accuracy: 0.3077 - val_alive_accuracy: 0.2456 - val_road_accuracy: 0.5964 - val_pet_accuracy: 0.5058 - val_medium_accuracy: 0.4764\n",
            "Epoch 9/30\n",
            "1563/1563 [==============================] - 77s 49ms/step - loss: 8.8159 - root_loss: 0.2323 - nalive_loss: 0.0945 - alive_loss: 0.2796 - road_loss: 0.0642 - pet_loss: 0.1084 - medium_loss: 0.0633 - root_accuracy: 0.8245 - nalive_accuracy: 0.6018 - alive_accuracy: 0.5765 - road_accuracy: 0.5075 - pet_accuracy: 0.7287 - medium_accuracy: 0.6704 - val_loss: 12.3419 - val_root_loss: 1.4191 - val_nalive_loss: 0.9295 - val_alive_loss: 1.7125 - val_road_loss: 0.1970 - val_pet_loss: 0.1655 - val_medium_loss: 0.2157 - val_root_accuracy: 0.4999 - val_nalive_accuracy: 0.3086 - val_alive_accuracy: 0.2287 - val_road_accuracy: 0.3494 - val_pet_accuracy: 0.6049 - val_medium_accuracy: 0.6238\n",
            "Epoch 10/30\n",
            "1563/1563 [==============================] - 77s 49ms/step - loss: 8.2248 - root_loss: 0.2224 - nalive_loss: 0.0852 - alive_loss: 0.2490 - road_loss: 0.0605 - pet_loss: 0.1061 - medium_loss: 0.0597 - root_accuracy: 0.8291 - nalive_accuracy: 0.6065 - alive_accuracy: 0.5918 - road_accuracy: 0.5020 - pet_accuracy: 0.7307 - medium_accuracy: 0.6712 - val_loss: 12.0562 - val_root_loss: 1.3493 - val_nalive_loss: 1.0214 - val_alive_loss: 1.9103 - val_road_loss: 0.2014 - val_pet_loss: 0.1699 - val_medium_loss: 0.2190 - val_root_accuracy: 0.5008 - val_nalive_accuracy: 0.3539 - val_alive_accuracy: 0.2430 - val_road_accuracy: 0.5720 - val_pet_accuracy: 0.6078 - val_medium_accuracy: 0.5520\n",
            "Epoch 11/30\n",
            "1563/1563 [==============================] - 77s 49ms/step - loss: 7.6624 - root_loss: 0.2142 - nalive_loss: 0.0757 - alive_loss: 0.2173 - road_loss: 0.0576 - pet_loss: 0.1037 - medium_loss: 0.0567 - root_accuracy: 0.8306 - nalive_accuracy: 0.6096 - alive_accuracy: 0.6018 - road_accuracy: 0.5013 - pet_accuracy: 0.7346 - medium_accuracy: 0.6747 - val_loss: 11.8916 - val_root_loss: 1.4238 - val_nalive_loss: 1.0992 - val_alive_loss: 2.0671 - val_road_loss: 0.2016 - val_pet_loss: 0.1727 - val_medium_loss: 0.2340 - val_root_accuracy: 0.4996 - val_nalive_accuracy: 0.3402 - val_alive_accuracy: 0.2442 - val_road_accuracy: 0.5270 - val_pet_accuracy: 0.4919 - val_medium_accuracy: 0.5570\n",
            "Epoch 12/30\n",
            "1563/1563 [==============================] - 78s 50ms/step - loss: 7.1341 - root_loss: 0.2078 - nalive_loss: 0.0691 - alive_loss: 0.1872 - road_loss: 0.0550 - pet_loss: 0.1013 - medium_loss: 0.0548 - root_accuracy: 0.8326 - nalive_accuracy: 0.6168 - alive_accuracy: 0.6189 - road_accuracy: 0.4985 - pet_accuracy: 0.7296 - medium_accuracy: 0.6791 - val_loss: 11.5992 - val_root_loss: 1.4320 - val_nalive_loss: 1.1126 - val_alive_loss: 2.2157 - val_road_loss: 0.2024 - val_pet_loss: 0.1744 - val_medium_loss: 0.2340 - val_root_accuracy: 0.5046 - val_nalive_accuracy: 0.3453 - val_alive_accuracy: 0.2239 - val_road_accuracy: 0.4818 - val_pet_accuracy: 0.4384 - val_medium_accuracy: 0.5957\n",
            "Epoch 13/30\n",
            "1563/1563 [==============================] - 77s 49ms/step - loss: 6.6338 - root_loss: 0.2025 - nalive_loss: 0.0621 - alive_loss: 0.1588 - road_loss: 0.0525 - pet_loss: 0.0992 - medium_loss: 0.0522 - root_accuracy: 0.8345 - nalive_accuracy: 0.6158 - alive_accuracy: 0.6285 - road_accuracy: 0.4961 - pet_accuracy: 0.7291 - medium_accuracy: 0.6765 - val_loss: 11.3265 - val_root_loss: 1.5304 - val_nalive_loss: 1.1589 - val_alive_loss: 2.2093 - val_road_loss: 0.2160 - val_pet_loss: 0.1771 - val_medium_loss: 0.2464 - val_root_accuracy: 0.5013 - val_nalive_accuracy: 0.3629 - val_alive_accuracy: 0.2403 - val_road_accuracy: 0.5828 - val_pet_accuracy: 0.4516 - val_medium_accuracy: 0.5698\n",
            "Epoch 14/30\n",
            "1563/1563 [==============================] - 77s 49ms/step - loss: 6.1628 - root_loss: 0.1977 - nalive_loss: 0.0562 - alive_loss: 0.1313 - road_loss: 0.0506 - pet_loss: 0.0976 - medium_loss: 0.0503 - root_accuracy: 0.8356 - nalive_accuracy: 0.6196 - alive_accuracy: 0.6385 - road_accuracy: 0.4941 - pet_accuracy: 0.7315 - medium_accuracy: 0.6792 - val_loss: 11.1843 - val_root_loss: 1.5693 - val_nalive_loss: 1.2011 - val_alive_loss: 2.3934 - val_road_loss: 0.2159 - val_pet_loss: 0.1800 - val_medium_loss: 0.2507 - val_root_accuracy: 0.5001 - val_nalive_accuracy: 0.2920 - val_alive_accuracy: 0.2198 - val_road_accuracy: 0.4881 - val_pet_accuracy: 0.4727 - val_medium_accuracy: 0.6150\n",
            "Epoch 15/30\n",
            "1563/1563 [==============================] - 77s 49ms/step - loss: 5.7218 - root_loss: 0.1939 - nalive_loss: 0.0500 - alive_loss: 0.1089 - road_loss: 0.0480 - pet_loss: 0.0959 - medium_loss: 0.0481 - root_accuracy: 0.8370 - nalive_accuracy: 0.6212 - alive_accuracy: 0.6483 - road_accuracy: 0.4846 - pet_accuracy: 0.7299 - medium_accuracy: 0.6814 - val_loss: 11.1055 - val_root_loss: 1.5675 - val_nalive_loss: 1.2547 - val_alive_loss: 2.6344 - val_road_loss: 0.2249 - val_pet_loss: 0.1830 - val_medium_loss: 0.2571 - val_root_accuracy: 0.4985 - val_nalive_accuracy: 0.3606 - val_alive_accuracy: 0.2319 - val_road_accuracy: 0.5690 - val_pet_accuracy: 0.4441 - val_medium_accuracy: 0.5266\n",
            "Epoch 16/30\n",
            "1563/1563 [==============================] - 78s 50ms/step - loss: 5.3095 - root_loss: 0.1903 - nalive_loss: 0.0451 - alive_loss: 0.0897 - road_loss: 0.0458 - pet_loss: 0.0944 - medium_loss: 0.0460 - root_accuracy: 0.8385 - nalive_accuracy: 0.6281 - alive_accuracy: 0.6567 - road_accuracy: 0.4859 - pet_accuracy: 0.7275 - medium_accuracy: 0.6813 - val_loss: 10.8876 - val_root_loss: 1.5803 - val_nalive_loss: 1.2443 - val_alive_loss: 2.7918 - val_road_loss: 0.2182 - val_pet_loss: 0.1803 - val_medium_loss: 0.2558 - val_root_accuracy: 0.5019 - val_nalive_accuracy: 0.3124 - val_alive_accuracy: 0.2265 - val_road_accuracy: 0.4883 - val_pet_accuracy: 0.5165 - val_medium_accuracy: 0.4501\n",
            "Epoch 17/30\n",
            "1563/1563 [==============================] - 77s 49ms/step - loss: 4.9293 - root_loss: 0.1870 - nalive_loss: 0.0411 - alive_loss: 0.0766 - road_loss: 0.0446 - pet_loss: 0.0923 - medium_loss: 0.0447 - root_accuracy: 0.8399 - nalive_accuracy: 0.6305 - alive_accuracy: 0.6599 - road_accuracy: 0.4896 - pet_accuracy: 0.7285 - medium_accuracy: 0.6780 - val_loss: 10.7243 - val_root_loss: 1.5930 - val_nalive_loss: 1.3413 - val_alive_loss: 2.8467 - val_road_loss: 0.2371 - val_pet_loss: 0.1814 - val_medium_loss: 0.2514 - val_root_accuracy: 0.5036 - val_nalive_accuracy: 0.3400 - val_alive_accuracy: 0.2254 - val_road_accuracy: 0.4419 - val_pet_accuracy: 0.5728 - val_medium_accuracy: 0.5042\n",
            "Epoch 18/30\n",
            "1563/1563 [==============================] - 77s 49ms/step - loss: 4.5777 - root_loss: 0.1853 - nalive_loss: 0.0375 - alive_loss: 0.0673 - road_loss: 0.0436 - pet_loss: 0.0908 - medium_loss: 0.0428 - root_accuracy: 0.8400 - nalive_accuracy: 0.6331 - alive_accuracy: 0.6631 - road_accuracy: 0.4852 - pet_accuracy: 0.7276 - medium_accuracy: 0.6793 - val_loss: 10.6447 - val_root_loss: 1.6525 - val_nalive_loss: 1.3204 - val_alive_loss: 3.0095 - val_road_loss: 0.2421 - val_pet_loss: 0.1847 - val_medium_loss: 0.2820 - val_root_accuracy: 0.4989 - val_nalive_accuracy: 0.3473 - val_alive_accuracy: 0.2416 - val_road_accuracy: 0.5679 - val_pet_accuracy: 0.5678 - val_medium_accuracy: 0.6710\n",
            "Epoch 19/30\n",
            "1563/1563 [==============================] - 77s 49ms/step - loss: 4.2536 - root_loss: 0.1830 - nalive_loss: 0.0350 - alive_loss: 0.0595 - road_loss: 0.0428 - pet_loss: 0.0899 - medium_loss: 0.0422 - root_accuracy: 0.8407 - nalive_accuracy: 0.6310 - alive_accuracy: 0.6633 - road_accuracy: 0.4832 - pet_accuracy: 0.7258 - medium_accuracy: 0.6781 - val_loss: 10.5963 - val_root_loss: 1.6436 - val_nalive_loss: 1.3916 - val_alive_loss: 3.2156 - val_road_loss: 0.2284 - val_pet_loss: 0.1920 - val_medium_loss: 0.2698 - val_root_accuracy: 0.4987 - val_nalive_accuracy: 0.3355 - val_alive_accuracy: 0.2375 - val_road_accuracy: 0.4195 - val_pet_accuracy: 0.5927 - val_medium_accuracy: 0.5128\n",
            "Epoch 20/30\n",
            "1563/1563 [==============================] - 78s 50ms/step - loss: 3.9541 - root_loss: 0.1812 - nalive_loss: 0.0329 - alive_loss: 0.0543 - road_loss: 0.0417 - pet_loss: 0.0886 - medium_loss: 0.0407 - root_accuracy: 0.8420 - nalive_accuracy: 0.6330 - alive_accuracy: 0.6679 - road_accuracy: 0.4812 - pet_accuracy: 0.7279 - medium_accuracy: 0.6792 - val_loss: 10.2623 - val_root_loss: 1.5863 - val_nalive_loss: 1.4231 - val_alive_loss: 3.1527 - val_road_loss: 0.2503 - val_pet_loss: 0.1806 - val_medium_loss: 0.2899 - val_root_accuracy: 0.4982 - val_nalive_accuracy: 0.3603 - val_alive_accuracy: 0.2443 - val_road_accuracy: 0.4689 - val_pet_accuracy: 0.5731 - val_medium_accuracy: 0.6505\n",
            "Epoch 21/30\n",
            "1563/1563 [==============================] - 77s 49ms/step - loss: 3.6825 - root_loss: 0.1792 - nalive_loss: 0.0326 - alive_loss: 0.0525 - road_loss: 0.0407 - pet_loss: 0.0871 - medium_loss: 0.0398 - root_accuracy: 0.8420 - nalive_accuracy: 0.6350 - alive_accuracy: 0.6673 - road_accuracy: 0.4851 - pet_accuracy: 0.7281 - medium_accuracy: 0.6775 - val_loss: 10.1194 - val_root_loss: 1.6188 - val_nalive_loss: 1.3934 - val_alive_loss: 3.2707 - val_road_loss: 0.2435 - val_pet_loss: 0.1933 - val_medium_loss: 0.2724 - val_root_accuracy: 0.4995 - val_nalive_accuracy: 0.3227 - val_alive_accuracy: 0.2269 - val_road_accuracy: 0.4080 - val_pet_accuracy: 0.6231 - val_medium_accuracy: 0.5373\n",
            "Epoch 22/30\n",
            "1563/1563 [==============================] - 77s 49ms/step - loss: 3.4305 - root_loss: 0.1777 - nalive_loss: 0.0312 - alive_loss: 0.0470 - road_loss: 0.0409 - pet_loss: 0.0867 - medium_loss: 0.0384 - root_accuracy: 0.8442 - nalive_accuracy: 0.6359 - alive_accuracy: 0.6697 - road_accuracy: 0.4813 - pet_accuracy: 0.7282 - medium_accuracy: 0.6741 - val_loss: 10.1554 - val_root_loss: 1.6392 - val_nalive_loss: 1.5049 - val_alive_loss: 3.3945 - val_road_loss: 0.2505 - val_pet_loss: 0.2005 - val_medium_loss: 0.2707 - val_root_accuracy: 0.5036 - val_nalive_accuracy: 0.3555 - val_alive_accuracy: 0.2341 - val_road_accuracy: 0.5977 - val_pet_accuracy: 0.6749 - val_medium_accuracy: 0.5062\n",
            "Epoch 23/30\n",
            "1563/1563 [==============================] - 77s 49ms/step - loss: 3.2056 - root_loss: 0.1769 - nalive_loss: 0.0306 - alive_loss: 0.0463 - road_loss: 0.0398 - pet_loss: 0.0861 - medium_loss: 0.0383 - root_accuracy: 0.8427 - nalive_accuracy: 0.6334 - alive_accuracy: 0.6727 - road_accuracy: 0.4835 - pet_accuracy: 0.7243 - medium_accuracy: 0.6796 - val_loss: 9.7254 - val_root_loss: 1.5974 - val_nalive_loss: 1.4116 - val_alive_loss: 3.3295 - val_road_loss: 0.2245 - val_pet_loss: 0.1931 - val_medium_loss: 0.2827 - val_root_accuracy: 0.5002 - val_nalive_accuracy: 0.3287 - val_alive_accuracy: 0.2228 - val_road_accuracy: 0.4679 - val_pet_accuracy: 0.6166 - val_medium_accuracy: 0.5533\n",
            "Epoch 24/30\n",
            "1563/1563 [==============================] - 78s 50ms/step - loss: 3.0081 - root_loss: 0.1755 - nalive_loss: 0.0309 - alive_loss: 0.0482 - road_loss: 0.0399 - pet_loss: 0.0856 - medium_loss: 0.0379 - root_accuracy: 0.8441 - nalive_accuracy: 0.6377 - alive_accuracy: 0.6717 - road_accuracy: 0.4841 - pet_accuracy: 0.7301 - medium_accuracy: 0.6749 - val_loss: 9.4487 - val_root_loss: 1.6751 - val_nalive_loss: 1.3277 - val_alive_loss: 3.2160 - val_road_loss: 0.2449 - val_pet_loss: 0.1902 - val_medium_loss: 0.2949 - val_root_accuracy: 0.4991 - val_nalive_accuracy: 0.3837 - val_alive_accuracy: 0.2714 - val_road_accuracy: 0.4299 - val_pet_accuracy: 0.6144 - val_medium_accuracy: 0.5840\n",
            "Epoch 25/30\n",
            "1563/1563 [==============================] - 77s 49ms/step - loss: 2.8280 - root_loss: 0.1748 - nalive_loss: 0.0313 - alive_loss: 0.0476 - road_loss: 0.0391 - pet_loss: 0.0849 - medium_loss: 0.0369 - root_accuracy: 0.8438 - nalive_accuracy: 0.6347 - alive_accuracy: 0.6726 - road_accuracy: 0.4780 - pet_accuracy: 0.7273 - medium_accuracy: 0.6716 - val_loss: 9.2042 - val_root_loss: 1.5294 - val_nalive_loss: 1.4840 - val_alive_loss: 3.1475 - val_road_loss: 0.2445 - val_pet_loss: 0.1913 - val_medium_loss: 0.2750 - val_root_accuracy: 0.5030 - val_nalive_accuracy: 0.3601 - val_alive_accuracy: 0.2475 - val_road_accuracy: 0.4752 - val_pet_accuracy: 0.5627 - val_medium_accuracy: 0.5481\n",
            "Epoch 26/30\n",
            "1563/1563 [==============================] - 77s 49ms/step - loss: 2.6600 - root_loss: 0.1735 - nalive_loss: 0.0313 - alive_loss: 0.0414 - road_loss: 0.0391 - pet_loss: 0.0840 - medium_loss: 0.0365 - root_accuracy: 0.8444 - nalive_accuracy: 0.6355 - alive_accuracy: 0.6758 - road_accuracy: 0.4823 - pet_accuracy: 0.7259 - medium_accuracy: 0.6690 - val_loss: 9.3133 - val_root_loss: 1.6772 - val_nalive_loss: 1.3796 - val_alive_loss: 3.3492 - val_road_loss: 0.2468 - val_pet_loss: 0.1970 - val_medium_loss: 0.2819 - val_root_accuracy: 0.5015 - val_nalive_accuracy: 0.3008 - val_alive_accuracy: 0.2221 - val_road_accuracy: 0.4212 - val_pet_accuracy: 0.5287 - val_medium_accuracy: 0.4584\n",
            "Epoch 27/30\n",
            "1563/1563 [==============================] - 77s 49ms/step - loss: 2.5274 - root_loss: 0.1732 - nalive_loss: 0.0318 - alive_loss: 0.0475 - road_loss: 0.0392 - pet_loss: 0.0838 - medium_loss: 0.0363 - root_accuracy: 0.8449 - nalive_accuracy: 0.6333 - alive_accuracy: 0.6722 - road_accuracy: 0.4779 - pet_accuracy: 0.7286 - medium_accuracy: 0.6713 - val_loss: 9.0999 - val_root_loss: 1.6095 - val_nalive_loss: 1.4427 - val_alive_loss: 3.2627 - val_road_loss: 0.2391 - val_pet_loss: 0.1982 - val_medium_loss: 0.2934 - val_root_accuracy: 0.4985 - val_nalive_accuracy: 0.3954 - val_alive_accuracy: 0.2210 - val_road_accuracy: 0.3756 - val_pet_accuracy: 0.5729 - val_medium_accuracy: 0.4804\n",
            "Epoch 28/30\n",
            "1563/1563 [==============================] - 78s 50ms/step - loss: 2.4066 - root_loss: 0.1721 - nalive_loss: 0.0317 - alive_loss: 0.0479 - road_loss: 0.0391 - pet_loss: 0.0838 - medium_loss: 0.0361 - root_accuracy: 0.8446 - nalive_accuracy: 0.6371 - alive_accuracy: 0.6704 - road_accuracy: 0.4710 - pet_accuracy: 0.7270 - medium_accuracy: 0.6696 - val_loss: 9.0928 - val_root_loss: 1.6633 - val_nalive_loss: 1.4092 - val_alive_loss: 3.3117 - val_road_loss: 0.2727 - val_pet_loss: 0.1905 - val_medium_loss: 0.3026 - val_root_accuracy: 0.5005 - val_nalive_accuracy: 0.3157 - val_alive_accuracy: 0.2375 - val_road_accuracy: 0.3724 - val_pet_accuracy: 0.4756 - val_medium_accuracy: 0.4132\n",
            "Epoch 29/30\n",
            "1563/1563 [==============================] - 77s 49ms/step - loss: 2.2846 - root_loss: 0.1708 - nalive_loss: 0.0292 - alive_loss: 0.0391 - road_loss: 0.0388 - pet_loss: 0.0834 - medium_loss: 0.0358 - root_accuracy: 0.8456 - nalive_accuracy: 0.6378 - alive_accuracy: 0.6779 - road_accuracy: 0.4798 - pet_accuracy: 0.7278 - medium_accuracy: 0.6689 - val_loss: 9.1787 - val_root_loss: 1.7103 - val_nalive_loss: 1.4765 - val_alive_loss: 3.3861 - val_road_loss: 0.2805 - val_pet_loss: 0.2074 - val_medium_loss: 0.2785 - val_root_accuracy: 0.4966 - val_nalive_accuracy: 0.4089 - val_alive_accuracy: 0.2550 - val_road_accuracy: 0.3301 - val_pet_accuracy: 0.6796 - val_medium_accuracy: 0.5737\n",
            "Epoch 30/30\n",
            "1563/1563 [==============================] - 77s 49ms/step - loss: 2.1952 - root_loss: 0.1696 - nalive_loss: 0.0299 - alive_loss: 0.0437 - road_loss: 0.0381 - pet_loss: 0.0830 - medium_loss: 0.0354 - root_accuracy: 0.8461 - nalive_accuracy: 0.6390 - alive_accuracy: 0.6698 - road_accuracy: 0.4749 - pet_accuracy: 0.7240 - medium_accuracy: 0.6719 - val_loss: 8.9735 - val_root_loss: 1.7009 - val_nalive_loss: 1.4836 - val_alive_loss: 3.2882 - val_road_loss: 0.2541 - val_pet_loss: 0.2075 - val_medium_loss: 0.2836 - val_root_accuracy: 0.5028 - val_nalive_accuracy: 0.3403 - val_alive_accuracy: 0.2331 - val_road_accuracy: 0.4846 - val_pet_accuracy: 0.6802 - val_medium_accuracy: 0.5645\n"
          ],
          "name": "stdout"
        },
        {
          "output_type": "execute_result",
          "data": {
            "text/plain": [
              "<tensorflow.python.keras.callbacks.History at 0x7f9da03be748>"
            ]
          },
          "metadata": {
            "tags": []
          },
          "execution_count": 31
        }
      ]
    },
    {
      "cell_type": "code",
      "metadata": {
        "id": "z2bKuunFQir1",
        "colab_type": "code",
        "colab": {
          "base_uri": "https://localhost:8080/",
          "height": 277
        },
        "outputId": "0b6c4b0c-15ee-4352-f745-1dbb6eccd412"
      },
      "source": [
        "# full.load_weights('fullweights.hdf5')\n",
        "full.evaluate(x_test, [rootD_test, naliveD_test, aliveD_test, roadD_test, petD_test, mediumD_test])"
      ],
      "execution_count": null,
      "outputs": [
        {
          "output_type": "stream",
          "text": [
            "313/313 [==============================] - 4s 12ms/step - loss: 8.9735 - root_loss: 1.7009 - nalive_loss: 1.4836 - alive_loss: 3.2882 - road_loss: 0.2541 - pet_loss: 0.2075 - medium_loss: 0.2836 - root_accuracy: 0.5028 - nalive_accuracy: 0.3403 - alive_accuracy: 0.2331 - road_accuracy: 0.4846 - pet_accuracy: 0.6802 - medium_accuracy: 0.5645\n"
          ],
          "name": "stdout"
        },
        {
          "output_type": "execute_result",
          "data": {
            "text/plain": [
              "[8.973502159118652,\n",
              " 1.700938105583191,\n",
              " 1.483573079109192,\n",
              " 3.288203239440918,\n",
              " 0.2540770471096039,\n",
              " 0.20745068788528442,\n",
              " 0.283590167760849,\n",
              " 0.5027999877929688,\n",
              " 0.3402999937534332,\n",
              " 0.23309999704360962,\n",
              " 0.4846000075340271,\n",
              " 0.6801999807357788,\n",
              " 0.5644999742507935]"
            ]
          },
          "metadata": {
            "tags": []
          },
          "execution_count": 32
        }
      ]
    },
    {
      "cell_type": "code",
      "metadata": {
        "id": "HKYz0e76sZk2",
        "colab_type": "code",
        "colab": {
          "base_uri": "https://localhost:8080/",
          "height": 394
        },
        "outputId": "0a590e5a-74a4-4a4e-8940-03e4caab7f67"
      },
      "source": [
        "full.summary()"
      ],
      "execution_count": null,
      "outputs": [
        {
          "output_type": "stream",
          "text": [
            "Model: \"full\"\n",
            "__________________________________________________________________________________________________\n",
            "Layer (type)                    Output Shape         Param #     Connected to                     \n",
            "==================================================================================================\n",
            "input_8 (InputLayer)            [(None, 32, 32, 3)]  0                                            \n",
            "__________________________________________________________________________________________________\n",
            "root (Model)                    [(None, 2), (None, 3 1198722     input_8[0][0]                    \n",
            "__________________________________________________________________________________________________\n",
            "nalive (Model)                  [(None, 3), (None, 3 1233987     root[1][1]                       \n",
            "__________________________________________________________________________________________________\n",
            "alive (Model)                   [(None, 4), (None, 3 1234116     root[1][1]                       \n",
            "__________________________________________________________________________________________________\n",
            "road (Model)                    (None, 2)            1233602     nalive[1][1]                     \n",
            "__________________________________________________________________________________________________\n",
            "pet (Model)                     (None, 2)            1233602     alive[1][1]                      \n",
            "__________________________________________________________________________________________________\n",
            "medium (Model)                  (None, 2)            1233602     alive[1][1]                      \n",
            "==================================================================================================\n",
            "Total params: 7,367,631\n",
            "Trainable params: 7,367,247\n",
            "Non-trainable params: 384\n",
            "__________________________________________________________________________________________________\n"
          ],
          "name": "stdout"
        }
      ]
    },
    {
      "cell_type": "code",
      "metadata": {
        "id": "XwNon_SOs9Is",
        "colab_type": "code",
        "colab": {}
      },
      "source": [
        "%tensorboard --logdir ind"
      ],
      "execution_count": null,
      "outputs": []
    },
    {
      "cell_type": "code",
      "metadata": {
        "id": "I61j1_66QM5T",
        "colab_type": "code",
        "colab": {}
      },
      "source": [
        "ind_callback = tf.keras.callbacks.TensorBoard(log_dir=\"./ind\")\n",
        "full.trainable = False\n",
        "rooti.trainable = True\n",
        "alivei.trainable = False\n",
        "print('rooti')\n",
        "rooti.fit(x_train, rootD_train, epochs=30, batch_size=16, validation_data=(x_test, rootD_test), callbacks=[ind_callback])\n",
        "nalivei.trainable = True\n",
        "roadi.trainable = False\n",
        "print('nalivei')\n",
        "nalivei.fit(x_train, naliveD_train, epochs=30, batch_size=16, validation_data=(x_test, naliveD_test), callbacks=[ind_callback])\n",
        "alivei.trainable = True\n",
        "peti.trainable = False\n",
        "print('alivei')\n",
        "alivei.fit(x_train, aliveD_train, epochs=30, batch_size=16, validation_data=(x_test, aliveD_test), callbacks=[ind_callback])\n",
        "roadi.trainable = True\n",
        "nalivei.trainable = False\n",
        "print('roadi')\n",
        "roadi.fit(x_train, roadD_train, epochs=30, batch_size=16, validation_data=(x_test, roadD_test), callbacks=[ind_callback])\n",
        "peti.trainable = True\n",
        "alivei.trainable = False\n",
        "print('peti')\n",
        "peti.fit(x_train, petD_train, epochs=30, batch_size=16, validation_data=(x_test, petD_test), callbacks=[ind_callback])\n",
        "mediumi.trainable = True\n",
        "alivei.trainable = False\n",
        "print('mediumi')\n",
        "mediumi.fit(x_train, mediumD_train, epochs=30, batch_size=16, validation_data=(x_test, mediumD_test), callbacks=[ind_callback])"
      ],
      "execution_count": null,
      "outputs": []
    },
    {
      "cell_type": "markdown",
      "metadata": {
        "id": "hePoJMbvG00X",
        "colab_type": "text"
      },
      "source": [
        "### Test The Networks"
      ]
    },
    {
      "cell_type": "code",
      "metadata": {
        "id": "q7XGfCMCKOGc",
        "colab_type": "code",
        "colab": {}
      },
      "source": [
        "tests = full.predict(x_test)"
      ],
      "execution_count": null,
      "outputs": []
    },
    {
      "cell_type": "code",
      "metadata": {
        "id": "SrJ0wXzgtpQb",
        "colab_type": "code",
        "colab": {
          "base_uri": "https://localhost:8080/",
          "height": 34
        },
        "outputId": "7e355cae-1d5e-4400-bdd0-0b1f789fbc67"
      },
      "source": [
        "abovep1 = 0\n",
        "for i in tests[2]:\n",
        "  if np.argmax(i) > 0:\n",
        "    abovep1 += 1\n",
        "print(abovep1, \"/\", len(tests[0]), '(', str(100*abovep1/len(tests[0])) + '%', ')')"
      ],
      "execution_count": null,
      "outputs": [
        {
          "output_type": "stream",
          "text": [
            "8363 / 10000 ( 83.63% )\n"
          ],
          "name": "stdout"
        }
      ]
    },
    {
      "cell_type": "code",
      "metadata": {
        "id": "IMszhAKuRwFM",
        "colab_type": "code",
        "colab": {
          "base_uri": "https://localhost:8080/",
          "height": 34
        },
        "outputId": "bff7547b-13e2-400e-a8ac-39150082c1be"
      },
      "source": [
        "import copy\n",
        "hierarchy = {\n",
        "    0: [[0, 0], [1, 0]],\n",
        "    8: [[0, 0], [1, 1]],\n",
        "    1: [[0, 0], [1, 2], [3, 0]],\n",
        "    9: [[0, 0], [1, 2], [3, 1]],\n",
        "    2: [[0, 1], [2, 0]],\n",
        "    6: [[0, 1], [2, 1]],\n",
        "    3: [[0, 1], [2, 2], [4, 0]],\n",
        "    5: [[0, 1], [2, 2], [4, 1]],\n",
        "    4: [[0, 1], [2, 3], [5, 0]],\n",
        "    7: [[0, 1], [2, 3], [5, 1]]\n",
        "}\n",
        "\n",
        "total = 0\n",
        "lt = len(tests[0])\n",
        "threshold=0.3\n",
        "for i in range(len(tests[0])):\n",
        "  arg = y_test[i][0]\n",
        "  pos = hierarchy[arg]\n",
        "  passed = True\n",
        "\n",
        "  finals = [tests[1][i][0], tests[1][i][1], tests[2][i][0], tests[2][i][1], tests[3][i][0], tests[3][i][1], tests[4][i][0], tests[4][i][1], tests[5][i][0], tests[5][i][1]]\n",
        "  finals = copy.deepcopy([finals[0], finals[2], finals[4], finals[6], finals[8], finals[7], finals[5], finals[9], finals[1], finals[3]])\n",
        "\n",
        "  # conditional\n",
        "\n",
        "  if tests[0][i][0] < threshold:\n",
        "    finals[0], finals[1], finals[8], finals[9] = 0, 0, 0, 0\n",
        "  if tests[0][i][1] < threshold:\n",
        "    finals[2], finals[3], finals[4], finals[5], finals[6], finals[7] = 0, 0, 0, 0, 0, 0\n",
        "  if tests[1][i][0] < threshold: finals[0] = 0\n",
        "  if tests[1][i][1] < threshold: finals[8] = 0\n",
        "  if tests[1][i][2] < threshold: finals[1], finals[9] = 0, 0\n",
        "  if tests[2][i][0] < threshold: finals[2] = 0\n",
        "  if tests[2][i][1] < threshold: finals[6] = 0\n",
        "  if tests[2][i][2] < threshold: finals[3], finals[5] = 0, 0\n",
        "  if tests[2][i][3] < threshold: finals[4], finals[7] = 0, 0\n",
        "\n",
        "  if np.argmax(finals) == arg and any(finals):\n",
        "    total += 1\n",
        "\n",
        "  # full\n",
        "\n",
        "  # print(arg, finals)\n",
        "  # if np.argmax(finals) == arg: total += 1\n",
        "  # indices = (-np.array(finals)).argsort()[:3]\n",
        "  # if arg in indices: total += 1\n",
        "\n",
        "  # single\n",
        "\n",
        "  \n",
        "  # for p in pos:\n",
        "  #   if np.argmax(tests[p[0]][i]) != p[1]: \n",
        "  #     passed = False\n",
        "  #     break\n",
        "  # if passed: total += 1\n",
        "  # break\n",
        "\n",
        "print(total/lt)\n",
        "\n",
        "\n"
      ],
      "execution_count": null,
      "outputs": [
        {
          "output_type": "stream",
          "text": [
            "0.0643\n"
          ],
          "name": "stdout"
        }
      ]
    },
    {
      "cell_type": "markdown",
      "metadata": {
        "id": "pQQdtutwG8Mr",
        "colab_type": "text"
      },
      "source": [
        "single-route accuracy"
      ]
    },
    {
      "cell_type": "code",
      "metadata": {
        "id": "Q-odSpKMTP-V",
        "colab_type": "code",
        "colab": {}
      },
      "source": [
        "count = 0\n",
        "total = len(x_test)\n",
        "for img in range(len(x_test)):\n",
        "  levels = rootNode.run(x_test[img], connection_type=2)\n",
        "  compare = levels[-1]\n",
        "  # print(compare, y_test[img])\n",
        "  if compare[0][1] == y_test[img][0]:\n",
        "    count += 1\n",
        "  if img%20 == 0:\n",
        "    print('\\r', img/total, count/(img+1), '    ', end='')\n",
        "\n",
        "print(count/total)"
      ],
      "execution_count": null,
      "outputs": []
    },
    {
      "cell_type": "markdown",
      "metadata": {
        "id": "xOQTX3mKG9yV",
        "colab_type": "text"
      },
      "source": [
        "conditional-execution accuracy with a threshold of 0.2"
      ]
    },
    {
      "cell_type": "code",
      "metadata": {
        "id": "Bxown7ADHAgC",
        "colab_type": "code",
        "colab": {}
      },
      "source": [
        "count = 0\n",
        "total = len(x_test)\n",
        "for img in range(len(x_test)):\n",
        "  levels = rootNode.run(x_test[img], connection_type=1, threshold=0.2)\n",
        "  fines = []\n",
        "  for i in levels:\n",
        "    # print(i)\n",
        "    if 'FINE' in i: fines.append(i)\n",
        "    elif type(i[0]) == list:\n",
        "      for x in i:\n",
        "        if type(x) == list and 'FINE' in x:\n",
        "          fines.append(x)\n",
        "\n",
        "  # print(fines)\n",
        "  fines.sort(reverse=True, key=lambda x: x[2])\n",
        "  if len(fines) > 0 and fines[0][1] == y_test[img][0]:\n",
        "    count += 1\n",
        "\n",
        "  if img%20 == 0:\n",
        "    print('\\r', img/total, count/(img+1), '    ', end='')\n",
        "\n",
        "print(count/total)"
      ],
      "execution_count": null,
      "outputs": []
    },
    {
      "cell_type": "markdown",
      "metadata": {
        "id": "dSSwkD0_HApf",
        "colab_type": "text"
      },
      "source": [
        "full-network accuracy"
      ]
    },
    {
      "cell_type": "code",
      "metadata": {
        "id": "pMflVyQoHCry",
        "colab_type": "code",
        "colab": {}
      },
      "source": [
        "count = 0\n",
        "topkcount = 0\n",
        "topk = 3\n",
        "total = len(x_test)\n",
        "for img in range(len(x_test)):\n",
        "  levels = rootNode.run(x_test[img], connection_type=0)\n",
        "  fines = []\n",
        "  for i in levels:\n",
        "    # print(i)\n",
        "    if 'FINE' in i: fines.append(i)\n",
        "    elif type(i[0]) == list:\n",
        "      for x in i:\n",
        "        if type(x) == list and 'FINE' in x:\n",
        "          fines.append(x)\n",
        "\n",
        "  # print(fines)\n",
        "  fines.sort(reverse=True, key=lambda x: x[2])\n",
        "  if len(fines) > 0 and fines[0][1] == y_test[img][0]:\n",
        "    count += 1\n",
        "  for i in range(topk):\n",
        "    if fines[i][1] ==  y_test[img][0]:\n",
        "      topkcount += 1\n",
        "      break\n",
        "\n",
        "  if img%20 == 0:\n",
        "    print('\\r', img/total, count/(img+1), topkcount/(img+1), '    ', end='')\n",
        "\n",
        "print(count/total)\n",
        "print(topkcount/total)"
      ],
      "execution_count": null,
      "outputs": []
    }
  ]
}